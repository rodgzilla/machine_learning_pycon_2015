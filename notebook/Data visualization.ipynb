{
 "cells": [
  {
   "cell_type": "markdown",
   "metadata": {},
   "source": [
    "# Imports"
   ]
  },
  {
   "cell_type": "markdown",
   "metadata": {},
   "source": [
    "Basic libraries imports "
   ]
  },
  {
   "cell_type": "code",
   "execution_count": 1,
   "metadata": {
    "collapsed": true
   },
   "outputs": [],
   "source": [
    "import pandas as pd\n",
    "import numpy as np"
   ]
  },
  {
   "cell_type": "markdown",
   "metadata": {},
   "source": [
    "Visualization imports"
   ]
  },
  {
   "cell_type": "code",
   "execution_count": 2,
   "metadata": {
    "collapsed": true
   },
   "outputs": [],
   "source": [
    "import seaborn as sns\n",
    "import matplotlib.pyplot as plt\n",
    "# from mpl_toolkits.mplot3d import Axes3D\n",
    "%matplotlib inline\n",
    "\n",
    "sns.set(style=\"white\", palette=\"pastel\", color_codes=True)"
   ]
  },
  {
   "cell_type": "markdown",
   "metadata": {},
   "source": [
    "# Data loading"
   ]
  },
  {
   "cell_type": "code",
   "execution_count": 3,
   "metadata": {
    "collapsed": true
   },
   "outputs": [],
   "source": [
    "train = pd.read_csv('../input/train.csv')[:5000]\n",
    "leaderboard = pd.read_csv('../input/public_leaderboard.csv')[:1000]"
   ]
  },
  {
   "cell_type": "markdown",
   "metadata": {},
   "source": [
    "# Table visualization"
   ]
  },
  {
   "cell_type": "markdown",
   "metadata": {},
   "source": [
    "Printing the first 5 rows of the train data (transposed for easier reading)"
   ]
  },
  {
   "cell_type": "code",
   "execution_count": 4,
   "metadata": {
    "collapsed": false
   },
   "outputs": [
    {
     "name": "stdout",
     "output_type": "stream",
     "text": [
      "(5000, 16)\n"
     ]
    },
    {
     "data": {
      "text/html": [
       "<div>\n",
       "<table border=\"1\" class=\"dataframe\">\n",
       "  <thead>\n",
       "    <tr style=\"text-align: right;\">\n",
       "      <th></th>\n",
       "      <th>0</th>\n",
       "      <th>1</th>\n",
       "      <th>2</th>\n",
       "      <th>3</th>\n",
       "      <th>4</th>\n",
       "    </tr>\n",
       "  </thead>\n",
       "  <tbody>\n",
       "    <tr>\n",
       "      <th>Unnamed: 0</th>\n",
       "      <td>0</td>\n",
       "      <td>1</td>\n",
       "      <td>2</td>\n",
       "      <td>3</td>\n",
       "      <td>4</td>\n",
       "    </tr>\n",
       "    <tr>\n",
       "      <th>PostId</th>\n",
       "      <td>6046168</td>\n",
       "      <td>4873911</td>\n",
       "      <td>3311559</td>\n",
       "      <td>9990413</td>\n",
       "      <td>10421966</td>\n",
       "    </tr>\n",
       "    <tr>\n",
       "      <th>PostCreationDate</th>\n",
       "      <td>05/18/2011 14:14:05</td>\n",
       "      <td>02/02/2011 11:30:10</td>\n",
       "      <td>07/22/2010 17:21:54</td>\n",
       "      <td>04/03/2012 09:18:39</td>\n",
       "      <td>05/02/2012 21:25:01</td>\n",
       "    </tr>\n",
       "    <tr>\n",
       "      <th>OwnerUserId</th>\n",
       "      <td>543315</td>\n",
       "      <td>465076</td>\n",
       "      <td>406143</td>\n",
       "      <td>851755</td>\n",
       "      <td>603588</td>\n",
       "    </tr>\n",
       "    <tr>\n",
       "      <th>OwnerCreationDate</th>\n",
       "      <td>09/17/2010 10:15:06</td>\n",
       "      <td>10/03/2010 09:30:58</td>\n",
       "      <td>07/22/2010 16:58:20</td>\n",
       "      <td>07/19/2011 10:22:40</td>\n",
       "      <td>02/04/2011 18:05:34</td>\n",
       "    </tr>\n",
       "    <tr>\n",
       "      <th>ReputationAtPostCreation</th>\n",
       "      <td>1</td>\n",
       "      <td>192</td>\n",
       "      <td>1</td>\n",
       "      <td>4</td>\n",
       "      <td>334</td>\n",
       "    </tr>\n",
       "    <tr>\n",
       "      <th>OwnerUndeletedAnswerCountAtPostTime</th>\n",
       "      <td>2</td>\n",
       "      <td>24</td>\n",
       "      <td>0</td>\n",
       "      <td>1</td>\n",
       "      <td>14</td>\n",
       "    </tr>\n",
       "    <tr>\n",
       "      <th>Title</th>\n",
       "      <td>For Mongodb is it better to reference an objec...</td>\n",
       "      <td>How to insert schemalocation in a xml document...</td>\n",
       "      <td>Too many lookup tables</td>\n",
       "      <td>What is this PHP code in VB.net</td>\n",
       "      <td>Spring-Data mongodb querying multiple classes ...</td>\n",
       "    </tr>\n",
       "    <tr>\n",
       "      <th>BodyMarkdown</th>\n",
       "      <td>I am building a corpus of indexed sentences in...</td>\n",
       "      <td>i create a xml document with JAXP and search a...</td>\n",
       "      <td>What are the adverse effects of having too man...</td>\n",
       "      <td>I am looking for the vb.net equivalent of this...</td>\n",
       "      <td>With Spring-Data, you can use the @Document an...</td>\n",
       "    </tr>\n",
       "    <tr>\n",
       "      <th>Tag1</th>\n",
       "      <td>mongodb</td>\n",
       "      <td>dom</td>\n",
       "      <td>sql-server</td>\n",
       "      <td>php</td>\n",
       "      <td>mongodb</td>\n",
       "    </tr>\n",
       "    <tr>\n",
       "      <th>Tag2</th>\n",
       "      <td>NaN</td>\n",
       "      <td>xsd</td>\n",
       "      <td>database-design</td>\n",
       "      <td>vb.net</td>\n",
       "      <td>spring-data</td>\n",
       "    </tr>\n",
       "    <tr>\n",
       "      <th>Tag3</th>\n",
       "      <td>NaN</td>\n",
       "      <td>jaxp</td>\n",
       "      <td>enums</td>\n",
       "      <td>NaN</td>\n",
       "      <td>NaN</td>\n",
       "    </tr>\n",
       "    <tr>\n",
       "      <th>Tag4</th>\n",
       "      <td>NaN</td>\n",
       "      <td>NaN</td>\n",
       "      <td>NaN</td>\n",
       "      <td>NaN</td>\n",
       "      <td>NaN</td>\n",
       "    </tr>\n",
       "    <tr>\n",
       "      <th>Tag5</th>\n",
       "      <td>NaN</td>\n",
       "      <td>NaN</td>\n",
       "      <td>NaN</td>\n",
       "      <td>NaN</td>\n",
       "      <td>NaN</td>\n",
       "    </tr>\n",
       "    <tr>\n",
       "      <th>PostClosedDate</th>\n",
       "      <td>NaN</td>\n",
       "      <td>NaN</td>\n",
       "      <td>NaN</td>\n",
       "      <td>04/15/2012 21:12:48</td>\n",
       "      <td>NaN</td>\n",
       "    </tr>\n",
       "    <tr>\n",
       "      <th>OpenStatus</th>\n",
       "      <td>1</td>\n",
       "      <td>1</td>\n",
       "      <td>1</td>\n",
       "      <td>0</td>\n",
       "      <td>1</td>\n",
       "    </tr>\n",
       "  </tbody>\n",
       "</table>\n",
       "</div>"
      ],
      "text/plain": [
       "                                                                                     0  \\\n",
       "Unnamed: 0                                                                           0   \n",
       "PostId                                                                         6046168   \n",
       "PostCreationDate                                                   05/18/2011 14:14:05   \n",
       "OwnerUserId                                                                     543315   \n",
       "OwnerCreationDate                                                  09/17/2010 10:15:06   \n",
       "ReputationAtPostCreation                                                             1   \n",
       "OwnerUndeletedAnswerCountAtPostTime                                                  2   \n",
       "Title                                For Mongodb is it better to reference an objec...   \n",
       "BodyMarkdown                         I am building a corpus of indexed sentences in...   \n",
       "Tag1                                                                           mongodb   \n",
       "Tag2                                                                               NaN   \n",
       "Tag3                                                                               NaN   \n",
       "Tag4                                                                               NaN   \n",
       "Tag5                                                                               NaN   \n",
       "PostClosedDate                                                                     NaN   \n",
       "OpenStatus                                                                           1   \n",
       "\n",
       "                                                                                     1  \\\n",
       "Unnamed: 0                                                                           1   \n",
       "PostId                                                                         4873911   \n",
       "PostCreationDate                                                   02/02/2011 11:30:10   \n",
       "OwnerUserId                                                                     465076   \n",
       "OwnerCreationDate                                                  10/03/2010 09:30:58   \n",
       "ReputationAtPostCreation                                                           192   \n",
       "OwnerUndeletedAnswerCountAtPostTime                                                 24   \n",
       "Title                                How to insert schemalocation in a xml document...   \n",
       "BodyMarkdown                         i create a xml document with JAXP and search a...   \n",
       "Tag1                                                                               dom   \n",
       "Tag2                                                                               xsd   \n",
       "Tag3                                                                              jaxp   \n",
       "Tag4                                                                               NaN   \n",
       "Tag5                                                                               NaN   \n",
       "PostClosedDate                                                                     NaN   \n",
       "OpenStatus                                                                           1   \n",
       "\n",
       "                                                                                     2  \\\n",
       "Unnamed: 0                                                                           2   \n",
       "PostId                                                                         3311559   \n",
       "PostCreationDate                                                   07/22/2010 17:21:54   \n",
       "OwnerUserId                                                                     406143   \n",
       "OwnerCreationDate                                                  07/22/2010 16:58:20   \n",
       "ReputationAtPostCreation                                                             1   \n",
       "OwnerUndeletedAnswerCountAtPostTime                                                  0   \n",
       "Title                                                          Too many lookup tables    \n",
       "BodyMarkdown                         What are the adverse effects of having too man...   \n",
       "Tag1                                                                        sql-server   \n",
       "Tag2                                                                   database-design   \n",
       "Tag3                                                                             enums   \n",
       "Tag4                                                                               NaN   \n",
       "Tag5                                                                               NaN   \n",
       "PostClosedDate                                                                     NaN   \n",
       "OpenStatus                                                                           1   \n",
       "\n",
       "                                                                                     3  \\\n",
       "Unnamed: 0                                                                           3   \n",
       "PostId                                                                         9990413   \n",
       "PostCreationDate                                                   04/03/2012 09:18:39   \n",
       "OwnerUserId                                                                     851755   \n",
       "OwnerCreationDate                                                  07/19/2011 10:22:40   \n",
       "ReputationAtPostCreation                                                             4   \n",
       "OwnerUndeletedAnswerCountAtPostTime                                                  1   \n",
       "Title                                                  What is this PHP code in VB.net   \n",
       "BodyMarkdown                         I am looking for the vb.net equivalent of this...   \n",
       "Tag1                                                                               php   \n",
       "Tag2                                                                            vb.net   \n",
       "Tag3                                                                               NaN   \n",
       "Tag4                                                                               NaN   \n",
       "Tag5                                                                               NaN   \n",
       "PostClosedDate                                                     04/15/2012 21:12:48   \n",
       "OpenStatus                                                                           0   \n",
       "\n",
       "                                                                                     4  \n",
       "Unnamed: 0                                                                           4  \n",
       "PostId                                                                        10421966  \n",
       "PostCreationDate                                                   05/02/2012 21:25:01  \n",
       "OwnerUserId                                                                     603588  \n",
       "OwnerCreationDate                                                  02/04/2011 18:05:34  \n",
       "ReputationAtPostCreation                                                           334  \n",
       "OwnerUndeletedAnswerCountAtPostTime                                                 14  \n",
       "Title                                Spring-Data mongodb querying multiple classes ...  \n",
       "BodyMarkdown                         With Spring-Data, you can use the @Document an...  \n",
       "Tag1                                                                           mongodb  \n",
       "Tag2                                                                       spring-data  \n",
       "Tag3                                                                               NaN  \n",
       "Tag4                                                                               NaN  \n",
       "Tag5                                                                               NaN  \n",
       "PostClosedDate                                                                     NaN  \n",
       "OpenStatus                                                                           1  "
      ]
     },
     "execution_count": 4,
     "metadata": {},
     "output_type": "execute_result"
    }
   ],
   "source": [
    "print(train.shape)\n",
    "train.head().transpose()"
   ]
  },
  {
   "cell_type": "markdown",
   "metadata": {},
   "source": [
    "Printing the first 5 rows of the train data (transposed for easier reading)"
   ]
  },
  {
   "cell_type": "code",
   "execution_count": 5,
   "metadata": {
    "collapsed": false
   },
   "outputs": [
    {
     "name": "stdout",
     "output_type": "stream",
     "text": [
      "(1000, 13)\n"
     ]
    },
    {
     "data": {
      "text/html": [
       "<div>\n",
       "<table border=\"1\" class=\"dataframe\">\n",
       "  <thead>\n",
       "    <tr style=\"text-align: right;\">\n",
       "      <th></th>\n",
       "      <th>0</th>\n",
       "      <th>1</th>\n",
       "      <th>2</th>\n",
       "      <th>3</th>\n",
       "      <th>4</th>\n",
       "    </tr>\n",
       "  </thead>\n",
       "  <tbody>\n",
       "    <tr>\n",
       "      <th>PostId</th>\n",
       "      <td>11768878</td>\n",
       "      <td>11768880</td>\n",
       "      <td>11803678</td>\n",
       "      <td>11803496</td>\n",
       "      <td>11803700</td>\n",
       "    </tr>\n",
       "    <tr>\n",
       "      <th>PostCreationDate</th>\n",
       "      <td>08/01/2012 23:10:12</td>\n",
       "      <td>08/01/2012 23:10:21</td>\n",
       "      <td>08/03/2012 21:40:49</td>\n",
       "      <td>08/03/2012 21:24:02</td>\n",
       "      <td>08/03/2012 21:43:13</td>\n",
       "    </tr>\n",
       "    <tr>\n",
       "      <th>OwnerUserId</th>\n",
       "      <td>756422</td>\n",
       "      <td>1569892</td>\n",
       "      <td>1301879</td>\n",
       "      <td>1196150</td>\n",
       "      <td>772581</td>\n",
       "    </tr>\n",
       "    <tr>\n",
       "      <th>OwnerCreationDate</th>\n",
       "      <td>05/16/2011 21:49:59</td>\n",
       "      <td>08/01/2012 22:24:37</td>\n",
       "      <td>03/29/2012 21:01:29</td>\n",
       "      <td>02/08/2012 02:20:44</td>\n",
       "      <td>11/13/2009 16:24:05</td>\n",
       "    </tr>\n",
       "    <tr>\n",
       "      <th>ReputationAtPostCreation</th>\n",
       "      <td>155</td>\n",
       "      <td>1</td>\n",
       "      <td>781</td>\n",
       "      <td>538</td>\n",
       "      <td>70</td>\n",
       "    </tr>\n",
       "    <tr>\n",
       "      <th>OwnerUndeletedAnswerCountAtPostTime</th>\n",
       "      <td>11</td>\n",
       "      <td>0</td>\n",
       "      <td>37</td>\n",
       "      <td>0</td>\n",
       "      <td>2</td>\n",
       "    </tr>\n",
       "    <tr>\n",
       "      <th>Title</th>\n",
       "      <td>Maven &amp; yui-compressor Plugin issues</td>\n",
       "      <td>Inconsistent behaviour of html select dropdowns</td>\n",
       "      <td>Why Does MSFT C# Compiler Compile fixed Statem...</td>\n",
       "      <td>Dump sql file to ClearDB in Heroku</td>\n",
       "      <td>mysql query to get rows with conditions</td>\n",
       "    </tr>\n",
       "    <tr>\n",
       "      <th>BodyMarkdown</th>\n",
       "      <td>I'm using the yui-compressor plugin for maven ...</td>\n",
       "      <td>I have written a javascript-generated web page...</td>\n",
       "      <td>The .NET c# compiler (.NET 4.0) compiles the `...</td>\n",
       "      <td>I have a sql file that I want to be dumped int...</td>\n",
       "      <td>\\r\\nI have a table called \"articles\" on the da...</td>\n",
       "    </tr>\n",
       "    <tr>\n",
       "      <th>Tag1</th>\n",
       "      <td>maven</td>\n",
       "      <td>html</td>\n",
       "      <td>c#</td>\n",
       "      <td>mysql</td>\n",
       "      <td>mysql</td>\n",
       "    </tr>\n",
       "    <tr>\n",
       "      <th>Tag2</th>\n",
       "      <td>maven-3</td>\n",
       "      <td>select</td>\n",
       "      <td>.net</td>\n",
       "      <td>ruby-on-rails</td>\n",
       "      <td>query</td>\n",
       "    </tr>\n",
       "    <tr>\n",
       "      <th>Tag3</th>\n",
       "      <td>yui-compressor</td>\n",
       "      <td>drop-down-menu</td>\n",
       "      <td>compiler</td>\n",
       "      <td>heroku</td>\n",
       "      <td>NaN</td>\n",
       "    </tr>\n",
       "    <tr>\n",
       "      <th>Tag4</th>\n",
       "      <td>NaN</td>\n",
       "      <td>scrollbar</td>\n",
       "      <td>il</td>\n",
       "      <td>NaN</td>\n",
       "      <td>NaN</td>\n",
       "    </tr>\n",
       "    <tr>\n",
       "      <th>Tag5</th>\n",
       "      <td>NaN</td>\n",
       "      <td>NaN</td>\n",
       "      <td>NaN</td>\n",
       "      <td>NaN</td>\n",
       "      <td>NaN</td>\n",
       "    </tr>\n",
       "  </tbody>\n",
       "</table>\n",
       "</div>"
      ],
      "text/plain": [
       "                                                                                     0  \\\n",
       "PostId                                                                        11768878   \n",
       "PostCreationDate                                                   08/01/2012 23:10:12   \n",
       "OwnerUserId                                                                     756422   \n",
       "OwnerCreationDate                                                  05/16/2011 21:49:59   \n",
       "ReputationAtPostCreation                                                           155   \n",
       "OwnerUndeletedAnswerCountAtPostTime                                                 11   \n",
       "Title                                             Maven & yui-compressor Plugin issues   \n",
       "BodyMarkdown                         I'm using the yui-compressor plugin for maven ...   \n",
       "Tag1                                                                             maven   \n",
       "Tag2                                                                           maven-3   \n",
       "Tag3                                                                    yui-compressor   \n",
       "Tag4                                                                               NaN   \n",
       "Tag5                                                                               NaN   \n",
       "\n",
       "                                                                                     1  \\\n",
       "PostId                                                                        11768880   \n",
       "PostCreationDate                                                   08/01/2012 23:10:21   \n",
       "OwnerUserId                                                                    1569892   \n",
       "OwnerCreationDate                                                  08/01/2012 22:24:37   \n",
       "ReputationAtPostCreation                                                             1   \n",
       "OwnerUndeletedAnswerCountAtPostTime                                                  0   \n",
       "Title                                  Inconsistent behaviour of html select dropdowns   \n",
       "BodyMarkdown                         I have written a javascript-generated web page...   \n",
       "Tag1                                                                              html   \n",
       "Tag2                                                                            select   \n",
       "Tag3                                                                    drop-down-menu   \n",
       "Tag4                                                                         scrollbar   \n",
       "Tag5                                                                               NaN   \n",
       "\n",
       "                                                                                     2  \\\n",
       "PostId                                                                        11803678   \n",
       "PostCreationDate                                                   08/03/2012 21:40:49   \n",
       "OwnerUserId                                                                    1301879   \n",
       "OwnerCreationDate                                                  03/29/2012 21:01:29   \n",
       "ReputationAtPostCreation                                                           781   \n",
       "OwnerUndeletedAnswerCountAtPostTime                                                 37   \n",
       "Title                                Why Does MSFT C# Compiler Compile fixed Statem...   \n",
       "BodyMarkdown                         The .NET c# compiler (.NET 4.0) compiles the `...   \n",
       "Tag1                                                                                c#   \n",
       "Tag2                                                                              .net   \n",
       "Tag3                                                                          compiler   \n",
       "Tag4                                                                                il   \n",
       "Tag5                                                                               NaN   \n",
       "\n",
       "                                                                                     3  \\\n",
       "PostId                                                                        11803496   \n",
       "PostCreationDate                                                   08/03/2012 21:24:02   \n",
       "OwnerUserId                                                                    1196150   \n",
       "OwnerCreationDate                                                  02/08/2012 02:20:44   \n",
       "ReputationAtPostCreation                                                           538   \n",
       "OwnerUndeletedAnswerCountAtPostTime                                                  0   \n",
       "Title                                               Dump sql file to ClearDB in Heroku   \n",
       "BodyMarkdown                         I have a sql file that I want to be dumped int...   \n",
       "Tag1                                                                             mysql   \n",
       "Tag2                                                                     ruby-on-rails   \n",
       "Tag3                                                                            heroku   \n",
       "Tag4                                                                               NaN   \n",
       "Tag5                                                                               NaN   \n",
       "\n",
       "                                                                                     4  \n",
       "PostId                                                                        11803700  \n",
       "PostCreationDate                                                   08/03/2012 21:43:13  \n",
       "OwnerUserId                                                                     772581  \n",
       "OwnerCreationDate                                                  11/13/2009 16:24:05  \n",
       "ReputationAtPostCreation                                                            70  \n",
       "OwnerUndeletedAnswerCountAtPostTime                                                  2  \n",
       "Title                                          mysql query to get rows with conditions  \n",
       "BodyMarkdown                         \\r\\nI have a table called \"articles\" on the da...  \n",
       "Tag1                                                                             mysql  \n",
       "Tag2                                                                             query  \n",
       "Tag3                                                                               NaN  \n",
       "Tag4                                                                               NaN  \n",
       "Tag5                                                                               NaN  "
      ]
     },
     "execution_count": 5,
     "metadata": {},
     "output_type": "execute_result"
    }
   ],
   "source": [
    "print(leaderboard.shape)\n",
    "leaderboard.head().transpose()"
   ]
  },
  {
   "cell_type": "markdown",
   "metadata": {},
   "source": [
    "# Columns dropping"
   ]
  },
  {
   "cell_type": "markdown",
   "metadata": {},
   "source": [
    "We now drop the columns that we will not be using for our predictions."
   ]
  },
  {
   "cell_type": "code",
   "execution_count": 6,
   "metadata": {
    "collapsed": false
   },
   "outputs": [
    {
     "name": "stdout",
     "output_type": "stream",
     "text": [
      "(5000, 11) (1000, 10)\n"
     ]
    }
   ],
   "source": [
    "train.drop(['PostId', 'PostCreationDate', 'OwnerUserId', 'OwnerCreationDate', 'PostClosedDate'], axis = 1, inplace = True)\n",
    "leaderboard.drop(['PostCreationDate', 'OwnerUserId', 'OwnerCreationDate'], axis = 1, inplace = True)\n",
    "print(train.shape, leaderboard.shape)"
   ]
  },
  {
   "cell_type": "markdown",
   "metadata": {},
   "source": [
    "# Histograms"
   ]
  },
  {
   "cell_type": "markdown",
   "metadata": {},
   "source": [
    "# Tag manipulation"
   ]
  },
  {
   "cell_type": "markdown",
   "metadata": {},
   "source": [
    "Extracting the tags from the train set."
   ]
  },
  {
   "cell_type": "code",
   "execution_count": 7,
   "metadata": {
    "collapsed": false
   },
   "outputs": [],
   "source": [
    "tag_columns = ['Tag%d' % tag_number for tag_number in range(1, 6)]\n",
    "tags = train.loc[:, tag_columns]\n",
    "all_tags = pd.concat([tags[col] for col in tags.columns], axis = 0).dropna()"
   ]
  },
  {
   "cell_type": "markdown",
   "metadata": {},
   "source": [
    "Counting the number of occurence of each tag."
   ]
  },
  {
   "cell_type": "code",
   "execution_count": 8,
   "metadata": {
    "collapsed": false
   },
   "outputs": [
    {
     "data": {
      "text/plain": [
       "php           479\n",
       "c#            428\n",
       "java          403\n",
       "javascript    339\n",
       "android       291\n",
       "dtype: int64"
      ]
     },
     "execution_count": 8,
     "metadata": {},
     "output_type": "execute_result"
    }
   ],
   "source": [
    "tag_frequency = all_tags.value_counts()\n",
    "tag_frequency.head()"
   ]
  },
  {
   "cell_type": "markdown",
   "metadata": {},
   "source": [
    "Selecting the tags that appears at least 500 times."
   ]
  },
  {
   "cell_type": "code",
   "execution_count": 9,
   "metadata": {
    "collapsed": false
   },
   "outputs": [
    {
     "name": "stdout",
     "output_type": "stream",
     "text": [
      "Index([], dtype='object')\n",
      "0 tags\n"
     ]
    }
   ],
   "source": [
    "most_common_tags = tag_frequency[tag_frequency > 500]\n",
    "print(most_common_tags.keys()[:10])\n",
    "print('%d tags' % most_common_tags.shape[0])"
   ]
  },
  {
   "cell_type": "markdown",
   "metadata": {},
   "source": [
    "Adding new columns to the DataFrame indicating the presence of a given keyword in the keywords and removing the now useless tag columns."
   ]
  },
  {
   "cell_type": "code",
   "execution_count": 10,
   "metadata": {
    "collapsed": false
   },
   "outputs": [],
   "source": [
    "def add_tag_dummies(df, tags):\n",
    "    tag_cols = df.loc[:, tag_columns]\n",
    "\n",
    "    for tag in tags:\n",
    "        tag_present = pd.concat([tag_cols[col] == tag for col in tag_columns], axis = 1).any(axis = 1)\n",
    "        df['Tag ' + tag] = tag_present\n",
    "\n",
    "    df.drop(tag_columns, axis = 1, inplace = True)\n",
    "    \n",
    "tags = most_common_tags.keys()\n",
    "add_tag_dummies(train, tags)\n",
    "add_tag_dummies(leaderboard, tags)"
   ]
  },
  {
   "cell_type": "code",
   "execution_count": 11,
   "metadata": {
    "collapsed": false
   },
   "outputs": [
    {
     "data": {
      "text/html": [
       "<div>\n",
       "<table border=\"1\" class=\"dataframe\">\n",
       "  <thead>\n",
       "    <tr style=\"text-align: right;\">\n",
       "      <th></th>\n",
       "      <th>Unnamed: 0</th>\n",
       "      <th>ReputationAtPostCreation</th>\n",
       "      <th>OwnerUndeletedAnswerCountAtPostTime</th>\n",
       "      <th>Title</th>\n",
       "      <th>BodyMarkdown</th>\n",
       "      <th>OpenStatus</th>\n",
       "    </tr>\n",
       "  </thead>\n",
       "  <tbody>\n",
       "    <tr>\n",
       "      <th>0</th>\n",
       "      <td>0</td>\n",
       "      <td>1</td>\n",
       "      <td>2</td>\n",
       "      <td>For Mongodb is it better to reference an objec...</td>\n",
       "      <td>I am building a corpus of indexed sentences in...</td>\n",
       "      <td>1</td>\n",
       "    </tr>\n",
       "    <tr>\n",
       "      <th>1</th>\n",
       "      <td>1</td>\n",
       "      <td>192</td>\n",
       "      <td>24</td>\n",
       "      <td>How to insert schemalocation in a xml document...</td>\n",
       "      <td>i create a xml document with JAXP and search a...</td>\n",
       "      <td>1</td>\n",
       "    </tr>\n",
       "    <tr>\n",
       "      <th>2</th>\n",
       "      <td>2</td>\n",
       "      <td>1</td>\n",
       "      <td>0</td>\n",
       "      <td>Too many lookup tables</td>\n",
       "      <td>What are the adverse effects of having too man...</td>\n",
       "      <td>1</td>\n",
       "    </tr>\n",
       "    <tr>\n",
       "      <th>3</th>\n",
       "      <td>3</td>\n",
       "      <td>4</td>\n",
       "      <td>1</td>\n",
       "      <td>What is this PHP code in VB.net</td>\n",
       "      <td>I am looking for the vb.net equivalent of this...</td>\n",
       "      <td>0</td>\n",
       "    </tr>\n",
       "    <tr>\n",
       "      <th>4</th>\n",
       "      <td>4</td>\n",
       "      <td>334</td>\n",
       "      <td>14</td>\n",
       "      <td>Spring-Data mongodb querying multiple classes ...</td>\n",
       "      <td>With Spring-Data, you can use the @Document an...</td>\n",
       "      <td>1</td>\n",
       "    </tr>\n",
       "  </tbody>\n",
       "</table>\n",
       "</div>"
      ],
      "text/plain": [
       "   Unnamed: 0  ReputationAtPostCreation  OwnerUndeletedAnswerCountAtPostTime  \\\n",
       "0           0                         1                                    2   \n",
       "1           1                       192                                   24   \n",
       "2           2                         1                                    0   \n",
       "3           3                         4                                    1   \n",
       "4           4                       334                                   14   \n",
       "\n",
       "                                               Title  \\\n",
       "0  For Mongodb is it better to reference an objec...   \n",
       "1  How to insert schemalocation in a xml document...   \n",
       "2                            Too many lookup tables    \n",
       "3                    What is this PHP code in VB.net   \n",
       "4  Spring-Data mongodb querying multiple classes ...   \n",
       "\n",
       "                                        BodyMarkdown  OpenStatus  \n",
       "0  I am building a corpus of indexed sentences in...           1  \n",
       "1  i create a xml document with JAXP and search a...           1  \n",
       "2  What are the adverse effects of having too man...           1  \n",
       "3  I am looking for the vb.net equivalent of this...           0  \n",
       "4  With Spring-Data, you can use the @Document an...           1  "
      ]
     },
     "execution_count": 11,
     "metadata": {},
     "output_type": "execute_result"
    }
   ],
   "source": [
    "train.head()"
   ]
  },
  {
   "cell_type": "markdown",
   "metadata": {
    "collapsed": true
   },
   "source": [
    "# Title and body manipulation"
   ]
  },
  {
   "cell_type": "markdown",
   "metadata": {},
   "source": [
    "Importing the CountVectorizer which will select the most common words and transform them into feature matrices."
   ]
  },
  {
   "cell_type": "code",
   "execution_count": 12,
   "metadata": {
    "collapsed": true
   },
   "outputs": [],
   "source": [
    "from sklearn.feature_extraction.text import CountVectorizer"
   ]
  },
  {
   "cell_type": "code",
   "execution_count": 13,
   "metadata": {
    "collapsed": false
   },
   "outputs": [],
   "source": [
    "def extract_information(train_df, test_df, column_name, max_features):\n",
    "    vectorizer = CountVectorizer(max_features=max_features)\n",
    "    lowercase_train_col = train_df[column_name].apply(str.lower)    \n",
    "    lowercase_test_col  = test_df[column_name].apply(str.lower)\n",
    "    # Count the words in train and only keep the 'max_features' most common\n",
    "    vectorizer.fit(lowercase_train_col)\n",
    "    # Associate to each entry a (1, max_features) vector corresponding to \n",
    "    # the number of occurences of a given word\n",
    "    train_bow_matrix = vectorizer.transform(lowercase_train_col).todense()\n",
    "    test_bow_matrix  = vectorizer.transform(lowercase_test_col ).todense()\n",
    "    # Combine all these results in a pandas dataframe with proper columns names\n",
    "    column_names = ['%s %s' % (column_name, word) for word in vectorizer.get_feature_names()]\n",
    "    \n",
    "    train_df_expansion = pd.DataFrame(train_bow_matrix, index = train_df.index, columns = column_names)\n",
    "    test_df_expansion  = pd.DataFrame(test_bow_matrix , index = test_df.index , columns = column_names)\n",
    "\n",
    "    expanded_train_df = train_df.drop([column_name], axis = 1).join(train_df_expansion)\n",
    "    expanded_test_df  = test_df.drop( [column_name], axis = 1).join(test_df_expansion )\n",
    "    \n",
    "    return expanded_train_df, expanded_test_df"
   ]
  },
  {
   "cell_type": "code",
   "execution_count": 14,
   "metadata": {
    "collapsed": false
   },
   "outputs": [],
   "source": [
    "train, leaderboard = extract_information(train, leaderboard, 'Title'       , 200)\n",
    "train, leaderboard = extract_information(train, leaderboard, 'BodyMarkdown', 500)"
   ]
  },
  {
   "cell_type": "code",
   "execution_count": 15,
   "metadata": {
    "collapsed": false
   },
   "outputs": [
    {
     "data": {
      "text/html": [
       "<div>\n",
       "<table border=\"1\" class=\"dataframe\">\n",
       "  <thead>\n",
       "    <tr style=\"text-align: right;\">\n",
       "      <th></th>\n",
       "      <th>Unnamed: 0</th>\n",
       "      <th>ReputationAtPostCreation</th>\n",
       "      <th>OwnerUndeletedAnswerCountAtPostTime</th>\n",
       "      <th>OpenStatus</th>\n",
       "      <th>Title about</th>\n",
       "      <th>Title access</th>\n",
       "      <th>Title add</th>\n",
       "      <th>Title after</th>\n",
       "      <th>Title ajax</th>\n",
       "      <th>Title algorithm</th>\n",
       "      <th>...</th>\n",
       "      <th>BodyMarkdown work</th>\n",
       "      <th>BodyMarkdown working</th>\n",
       "      <th>BodyMarkdown works</th>\n",
       "      <th>BodyMarkdown would</th>\n",
       "      <th>BodyMarkdown write</th>\n",
       "      <th>BodyMarkdown wrong</th>\n",
       "      <th>BodyMarkdown www</th>\n",
       "      <th>BodyMarkdown xml</th>\n",
       "      <th>BodyMarkdown you</th>\n",
       "      <th>BodyMarkdown your</th>\n",
       "    </tr>\n",
       "  </thead>\n",
       "  <tbody>\n",
       "    <tr>\n",
       "      <th>0</th>\n",
       "      <td>0</td>\n",
       "      <td>1</td>\n",
       "      <td>2</td>\n",
       "      <td>1</td>\n",
       "      <td>0</td>\n",
       "      <td>0</td>\n",
       "      <td>0</td>\n",
       "      <td>0</td>\n",
       "      <td>0</td>\n",
       "      <td>0</td>\n",
       "      <td>...</td>\n",
       "      <td>0</td>\n",
       "      <td>0</td>\n",
       "      <td>0</td>\n",
       "      <td>0</td>\n",
       "      <td>0</td>\n",
       "      <td>0</td>\n",
       "      <td>0</td>\n",
       "      <td>0</td>\n",
       "      <td>0</td>\n",
       "      <td>0</td>\n",
       "    </tr>\n",
       "    <tr>\n",
       "      <th>1</th>\n",
       "      <td>1</td>\n",
       "      <td>192</td>\n",
       "      <td>24</td>\n",
       "      <td>1</td>\n",
       "      <td>0</td>\n",
       "      <td>0</td>\n",
       "      <td>0</td>\n",
       "      <td>0</td>\n",
       "      <td>0</td>\n",
       "      <td>0</td>\n",
       "      <td>...</td>\n",
       "      <td>0</td>\n",
       "      <td>0</td>\n",
       "      <td>0</td>\n",
       "      <td>0</td>\n",
       "      <td>0</td>\n",
       "      <td>0</td>\n",
       "      <td>1</td>\n",
       "      <td>4</td>\n",
       "      <td>0</td>\n",
       "      <td>1</td>\n",
       "    </tr>\n",
       "    <tr>\n",
       "      <th>2</th>\n",
       "      <td>2</td>\n",
       "      <td>1</td>\n",
       "      <td>0</td>\n",
       "      <td>1</td>\n",
       "      <td>0</td>\n",
       "      <td>0</td>\n",
       "      <td>0</td>\n",
       "      <td>0</td>\n",
       "      <td>0</td>\n",
       "      <td>0</td>\n",
       "      <td>...</td>\n",
       "      <td>0</td>\n",
       "      <td>0</td>\n",
       "      <td>0</td>\n",
       "      <td>1</td>\n",
       "      <td>0</td>\n",
       "      <td>0</td>\n",
       "      <td>0</td>\n",
       "      <td>0</td>\n",
       "      <td>0</td>\n",
       "      <td>0</td>\n",
       "    </tr>\n",
       "    <tr>\n",
       "      <th>3</th>\n",
       "      <td>3</td>\n",
       "      <td>4</td>\n",
       "      <td>1</td>\n",
       "      <td>0</td>\n",
       "      <td>0</td>\n",
       "      <td>0</td>\n",
       "      <td>0</td>\n",
       "      <td>0</td>\n",
       "      <td>0</td>\n",
       "      <td>0</td>\n",
       "      <td>...</td>\n",
       "      <td>0</td>\n",
       "      <td>0</td>\n",
       "      <td>0</td>\n",
       "      <td>0</td>\n",
       "      <td>0</td>\n",
       "      <td>0</td>\n",
       "      <td>1</td>\n",
       "      <td>0</td>\n",
       "      <td>1</td>\n",
       "      <td>0</td>\n",
       "    </tr>\n",
       "    <tr>\n",
       "      <th>4</th>\n",
       "      <td>4</td>\n",
       "      <td>334</td>\n",
       "      <td>14</td>\n",
       "      <td>1</td>\n",
       "      <td>0</td>\n",
       "      <td>0</td>\n",
       "      <td>0</td>\n",
       "      <td>0</td>\n",
       "      <td>0</td>\n",
       "      <td>0</td>\n",
       "      <td>...</td>\n",
       "      <td>0</td>\n",
       "      <td>0</td>\n",
       "      <td>0</td>\n",
       "      <td>0</td>\n",
       "      <td>0</td>\n",
       "      <td>0</td>\n",
       "      <td>0</td>\n",
       "      <td>0</td>\n",
       "      <td>1</td>\n",
       "      <td>0</td>\n",
       "    </tr>\n",
       "  </tbody>\n",
       "</table>\n",
       "<p>5 rows × 704 columns</p>\n",
       "</div>"
      ],
      "text/plain": [
       "   Unnamed: 0  ReputationAtPostCreation  OwnerUndeletedAnswerCountAtPostTime  \\\n",
       "0           0                         1                                    2   \n",
       "1           1                       192                                   24   \n",
       "2           2                         1                                    0   \n",
       "3           3                         4                                    1   \n",
       "4           4                       334                                   14   \n",
       "\n",
       "   OpenStatus  Title about  Title access  Title add  Title after  Title ajax  \\\n",
       "0           1            0             0          0            0           0   \n",
       "1           1            0             0          0            0           0   \n",
       "2           1            0             0          0            0           0   \n",
       "3           0            0             0          0            0           0   \n",
       "4           1            0             0          0            0           0   \n",
       "\n",
       "   Title algorithm        ...          BodyMarkdown work  \\\n",
       "0                0        ...                          0   \n",
       "1                0        ...                          0   \n",
       "2                0        ...                          0   \n",
       "3                0        ...                          0   \n",
       "4                0        ...                          0   \n",
       "\n",
       "   BodyMarkdown working  BodyMarkdown works  BodyMarkdown would  \\\n",
       "0                     0                   0                   0   \n",
       "1                     0                   0                   0   \n",
       "2                     0                   0                   1   \n",
       "3                     0                   0                   0   \n",
       "4                     0                   0                   0   \n",
       "\n",
       "   BodyMarkdown write  BodyMarkdown wrong  BodyMarkdown www  BodyMarkdown xml  \\\n",
       "0                   0                   0                 0                 0   \n",
       "1                   0                   0                 1                 4   \n",
       "2                   0                   0                 0                 0   \n",
       "3                   0                   0                 1                 0   \n",
       "4                   0                   0                 0                 0   \n",
       "\n",
       "   BodyMarkdown you  BodyMarkdown your  \n",
       "0                 0                  0  \n",
       "1                 0                  1  \n",
       "2                 0                  0  \n",
       "3                 1                  0  \n",
       "4                 1                  0  \n",
       "\n",
       "[5 rows x 704 columns]"
      ]
     },
     "execution_count": 15,
     "metadata": {},
     "output_type": "execute_result"
    }
   ],
   "source": [
    "train.head()"
   ]
  },
  {
   "cell_type": "code",
   "execution_count": 16,
   "metadata": {
    "collapsed": false
   },
   "outputs": [
    {
     "data": {
      "text/html": [
       "<div>\n",
       "<table border=\"1\" class=\"dataframe\">\n",
       "  <thead>\n",
       "    <tr style=\"text-align: right;\">\n",
       "      <th></th>\n",
       "      <th>PostId</th>\n",
       "      <th>ReputationAtPostCreation</th>\n",
       "      <th>OwnerUndeletedAnswerCountAtPostTime</th>\n",
       "      <th>Title about</th>\n",
       "      <th>Title access</th>\n",
       "      <th>Title add</th>\n",
       "      <th>Title after</th>\n",
       "      <th>Title ajax</th>\n",
       "      <th>Title algorithm</th>\n",
       "      <th>Title all</th>\n",
       "      <th>...</th>\n",
       "      <th>BodyMarkdown work</th>\n",
       "      <th>BodyMarkdown working</th>\n",
       "      <th>BodyMarkdown works</th>\n",
       "      <th>BodyMarkdown would</th>\n",
       "      <th>BodyMarkdown write</th>\n",
       "      <th>BodyMarkdown wrong</th>\n",
       "      <th>BodyMarkdown www</th>\n",
       "      <th>BodyMarkdown xml</th>\n",
       "      <th>BodyMarkdown you</th>\n",
       "      <th>BodyMarkdown your</th>\n",
       "    </tr>\n",
       "  </thead>\n",
       "  <tbody>\n",
       "    <tr>\n",
       "      <th>0</th>\n",
       "      <td>11768878</td>\n",
       "      <td>155</td>\n",
       "      <td>11</td>\n",
       "      <td>0</td>\n",
       "      <td>0</td>\n",
       "      <td>0</td>\n",
       "      <td>0</td>\n",
       "      <td>0</td>\n",
       "      <td>0</td>\n",
       "      <td>0</td>\n",
       "      <td>...</td>\n",
       "      <td>0</td>\n",
       "      <td>0</td>\n",
       "      <td>1</td>\n",
       "      <td>0</td>\n",
       "      <td>0</td>\n",
       "      <td>1</td>\n",
       "      <td>0</td>\n",
       "      <td>0</td>\n",
       "      <td>0</td>\n",
       "      <td>0</td>\n",
       "    </tr>\n",
       "    <tr>\n",
       "      <th>1</th>\n",
       "      <td>11768880</td>\n",
       "      <td>1</td>\n",
       "      <td>0</td>\n",
       "      <td>0</td>\n",
       "      <td>0</td>\n",
       "      <td>0</td>\n",
       "      <td>0</td>\n",
       "      <td>0</td>\n",
       "      <td>0</td>\n",
       "      <td>0</td>\n",
       "      <td>...</td>\n",
       "      <td>0</td>\n",
       "      <td>0</td>\n",
       "      <td>1</td>\n",
       "      <td>0</td>\n",
       "      <td>0</td>\n",
       "      <td>0</td>\n",
       "      <td>0</td>\n",
       "      <td>0</td>\n",
       "      <td>0</td>\n",
       "      <td>0</td>\n",
       "    </tr>\n",
       "    <tr>\n",
       "      <th>2</th>\n",
       "      <td>11803678</td>\n",
       "      <td>781</td>\n",
       "      <td>37</td>\n",
       "      <td>0</td>\n",
       "      <td>0</td>\n",
       "      <td>0</td>\n",
       "      <td>0</td>\n",
       "      <td>0</td>\n",
       "      <td>0</td>\n",
       "      <td>0</td>\n",
       "      <td>...</td>\n",
       "      <td>1</td>\n",
       "      <td>0</td>\n",
       "      <td>1</td>\n",
       "      <td>8</td>\n",
       "      <td>0</td>\n",
       "      <td>0</td>\n",
       "      <td>0</td>\n",
       "      <td>0</td>\n",
       "      <td>5</td>\n",
       "      <td>0</td>\n",
       "    </tr>\n",
       "    <tr>\n",
       "      <th>3</th>\n",
       "      <td>11803496</td>\n",
       "      <td>538</td>\n",
       "      <td>0</td>\n",
       "      <td>0</td>\n",
       "      <td>0</td>\n",
       "      <td>0</td>\n",
       "      <td>0</td>\n",
       "      <td>0</td>\n",
       "      <td>0</td>\n",
       "      <td>0</td>\n",
       "      <td>...</td>\n",
       "      <td>0</td>\n",
       "      <td>0</td>\n",
       "      <td>0</td>\n",
       "      <td>0</td>\n",
       "      <td>0</td>\n",
       "      <td>0</td>\n",
       "      <td>0</td>\n",
       "      <td>0</td>\n",
       "      <td>0</td>\n",
       "      <td>0</td>\n",
       "    </tr>\n",
       "    <tr>\n",
       "      <th>4</th>\n",
       "      <td>11803700</td>\n",
       "      <td>70</td>\n",
       "      <td>2</td>\n",
       "      <td>0</td>\n",
       "      <td>0</td>\n",
       "      <td>0</td>\n",
       "      <td>0</td>\n",
       "      <td>0</td>\n",
       "      <td>0</td>\n",
       "      <td>0</td>\n",
       "      <td>...</td>\n",
       "      <td>0</td>\n",
       "      <td>0</td>\n",
       "      <td>0</td>\n",
       "      <td>0</td>\n",
       "      <td>0</td>\n",
       "      <td>0</td>\n",
       "      <td>0</td>\n",
       "      <td>0</td>\n",
       "      <td>0</td>\n",
       "      <td>0</td>\n",
       "    </tr>\n",
       "  </tbody>\n",
       "</table>\n",
       "<p>5 rows × 703 columns</p>\n",
       "</div>"
      ],
      "text/plain": [
       "     PostId  ReputationAtPostCreation  OwnerUndeletedAnswerCountAtPostTime  \\\n",
       "0  11768878                       155                                   11   \n",
       "1  11768880                         1                                    0   \n",
       "2  11803678                       781                                   37   \n",
       "3  11803496                       538                                    0   \n",
       "4  11803700                        70                                    2   \n",
       "\n",
       "   Title about  Title access  Title add  Title after  Title ajax  \\\n",
       "0            0             0          0            0           0   \n",
       "1            0             0          0            0           0   \n",
       "2            0             0          0            0           0   \n",
       "3            0             0          0            0           0   \n",
       "4            0             0          0            0           0   \n",
       "\n",
       "   Title algorithm  Title all        ...          BodyMarkdown work  \\\n",
       "0                0          0        ...                          0   \n",
       "1                0          0        ...                          0   \n",
       "2                0          0        ...                          1   \n",
       "3                0          0        ...                          0   \n",
       "4                0          0        ...                          0   \n",
       "\n",
       "   BodyMarkdown working  BodyMarkdown works  BodyMarkdown would  \\\n",
       "0                     0                   1                   0   \n",
       "1                     0                   1                   0   \n",
       "2                     0                   1                   8   \n",
       "3                     0                   0                   0   \n",
       "4                     0                   0                   0   \n",
       "\n",
       "   BodyMarkdown write  BodyMarkdown wrong  BodyMarkdown www  BodyMarkdown xml  \\\n",
       "0                   0                   1                 0                 0   \n",
       "1                   0                   0                 0                 0   \n",
       "2                   0                   0                 0                 0   \n",
       "3                   0                   0                 0                 0   \n",
       "4                   0                   0                 0                 0   \n",
       "\n",
       "   BodyMarkdown you  BodyMarkdown your  \n",
       "0                 0                  0  \n",
       "1                 0                  0  \n",
       "2                 5                  0  \n",
       "3                 0                  0  \n",
       "4                 0                  0  \n",
       "\n",
       "[5 rows x 703 columns]"
      ]
     },
     "execution_count": 16,
     "metadata": {},
     "output_type": "execute_result"
    }
   ],
   "source": [
    "leaderboard.head()"
   ]
  },
  {
   "cell_type": "markdown",
   "metadata": {},
   "source": [
    "# Machine learning"
   ]
  },
  {
   "cell_type": "markdown",
   "metadata": {},
   "source": [
    "\n",
    "Classifier and cross validation tools imports."
   ]
  },
  {
   "cell_type": "code",
   "execution_count": 19,
   "metadata": {
    "collapsed": false
   },
   "outputs": [],
   "source": [
    "from sklearn.cross_validation import train_test_split\n",
    "from sklearn.ensemble         import RandomForestClassifier\n",
    "from sklearn.metrics          import log_loss\n",
    "\n",
    "X_df = train.drop(['Unnamed: 0', 'OpenStatus'], axis = 1)\n",
    "y_df = train['OpenStatus']\n",
    "X    = X_df.as_matrix()\n",
    "y    = y_df.as_matrix()\n",
    "\n",
    "X_leaderboard_df = leaderboard.drop(['PostId'], axis = 1)\n",
    "X_leaderboard = X_leaderboard_df.as_matrix()\n",
    "\n",
    "Xtrain, Xtest, ytrain, ytest = train_test_split(X, y)\n",
    "from sklearn.cross_validation import train_test_split\n",
    "from sklearn.metrics          import log_loss"
   ]
  },
  {
   "cell_type": "markdown",
   "metadata": {},
   "source": [
    "Data preparation in order to feed it to scikit-learn."
   ]
  },
  {
   "cell_type": "code",
   "execution_count": 20,
   "metadata": {
    "collapsed": false
   },
   "outputs": [],
   "source": [
    "X_df = train.drop(['Unnamed: 0', 'OpenStatus'], axis = 1)\n",
    "y_df = train['OpenStatus']\n",
    "X    = X_df.as_matrix()\n",
    "y    = y_df.as_matrix()\n",
    "\n",
    "X_leaderboard_df = leaderboard.drop(['PostId'], axis = 1)\n",
    "X_leaderboard = X_leaderboard_df.as_matrix()\n",
    "\n",
    "Xtrain, Xtest, ytrain, ytest = train_test_split(X, y)"
   ]
  },
  {
   "cell_type": "code",
   "execution_count": 21,
   "metadata": {
    "collapsed": false
   },
   "outputs": [
    {
     "data": {
      "text/plain": [
       "RandomForestClassifier(bootstrap=True, class_weight=None, criterion='gini',\n",
       "            max_depth=None, max_features='auto', max_leaf_nodes=None,\n",
       "            min_samples_leaf=1, min_samples_split=2,\n",
       "            min_weight_fraction_leaf=0.0, n_estimators=100, n_jobs=1,\n",
       "            oob_score=False, random_state=142857, verbose=0,\n",
       "            warm_start=False)"
      ]
     },
     "execution_count": 21,
     "metadata": {},
     "output_type": "execute_result"
    }
   ],
   "source": [
    "clf = RandomForestClassifier(n_estimators=100, random_state=142857)\n",
    "clf.fit(Xtrain, ytrain)"
   ]
  },
  {
   "cell_type": "code",
   "execution_count": 22,
   "metadata": {
    "collapsed": false
   },
   "outputs": [
    {
     "name": "stdout",
     "output_type": "stream",
     "text": [
      "0.6976\n"
     ]
    }
   ],
   "source": [
    "print(clf.score(Xtest, ytest))"
   ]
  },
  {
   "cell_type": "code",
   "execution_count": 23,
   "metadata": {
    "collapsed": false
   },
   "outputs": [
    {
     "name": "stdout",
     "output_type": "stream",
     "text": [
      "0.590564474795\n"
     ]
    }
   ],
   "source": [
    "ypred = clf.predict_proba(Xtest)[:,1]\n",
    "print(log_loss(ytest, ypred))"
   ]
  },
  {
   "cell_type": "markdown",
   "metadata": {},
   "source": [
    "# Submission creation"
   ]
  },
  {
   "cell_type": "code",
   "execution_count": 24,
   "metadata": {
    "collapsed": false
   },
   "outputs": [
    {
     "name": "stdout",
     "output_type": "stream",
     "text": [
      "\"id\",\"OpenStatus\"\r\n",
      "11768878,0.5\r\n",
      "11768880,0.5\r\n",
      "11803678,0.5\r\n",
      "11803496,0.5\r\n",
      "11803700,0.5\r\n",
      "11927241,0.5\r\n",
      "11927226,0.5\r\n",
      "11927247,0.5\r\n",
      "11927248,0.5\r\n"
     ]
    }
   ],
   "source": [
    "!head ../submission/even_odds_sample_submission.csv"
   ]
  },
  {
   "cell_type": "code",
   "execution_count": 25,
   "metadata": {
    "collapsed": false
   },
   "outputs": [],
   "source": [
    "leaderboard_predictions = clf.predict_proba(X_leaderboard)[:, 1]\n",
    "submission_dict = {'id'        : leaderboard['PostId'],\n",
    "                   'OpenStatus': leaderboard_predictions}\n",
    "submission_df = pd.DataFrame(submission_dict)\n",
    "submission_df.to_csv('../submission/submission.csv', index = False)"
   ]
  },
  {
   "cell_type": "code",
   "execution_count": 26,
   "metadata": {
    "collapsed": false
   },
   "outputs": [
    {
     "name": "stdout",
     "output_type": "stream",
     "text": [
      "OpenStatus,id\r\n",
      "0.72,11768878\r\n",
      "0.68,11768880\r\n",
      "0.45,11803678\r\n",
      "0.74,11803496\r\n",
      "0.69,11803700\r\n",
      "0.44,11927241\r\n",
      "0.78,11927226\r\n",
      "0.69,11927247\r\n",
      "0.38,11927248\r\n"
     ]
    }
   ],
   "source": [
    "!head ../submission/submission.csv"
   ]
  }
 ],
 "metadata": {
  "anaconda-cloud": {},
  "kernelspec": {
   "display_name": "Python [conda root]",
   "language": "python",
   "name": "conda-root-py"
  },
  "language_info": {
   "codemirror_mode": {
    "name": "ipython",
    "version": 3
   },
   "file_extension": ".py",
   "mimetype": "text/x-python",
   "name": "python",
   "nbconvert_exporter": "python",
   "pygments_lexer": "ipython3",
   "version": "3.5.2"
  }
 },
 "nbformat": 4,
 "nbformat_minor": 1
}
