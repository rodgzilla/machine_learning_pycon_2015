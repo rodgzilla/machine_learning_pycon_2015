{
 "cells": [
  {
   "cell_type": "markdown",
   "metadata": {},
   "source": [
    "# Imports"
   ]
  },
  {
   "cell_type": "markdown",
   "metadata": {},
   "source": [
    "Basic libraries imports "
   ]
  },
  {
   "cell_type": "code",
   "execution_count": 118,
   "metadata": {
    "collapsed": true
   },
   "outputs": [],
   "source": [
    "import pandas as pd\n",
    "import numpy as np"
   ]
  },
  {
   "cell_type": "markdown",
   "metadata": {},
   "source": [
    "Visualization imports"
   ]
  },
  {
   "cell_type": "code",
   "execution_count": 119,
   "metadata": {
    "collapsed": true
   },
   "outputs": [],
   "source": [
    "import seaborn as sns\n",
    "import matplotlib.pyplot as plt\n",
    "# from mpl_toolkits.mplot3d import Axes3D\n",
    "%matplotlib inline\n",
    "\n",
    "sns.set(style=\"white\", palette=\"pastel\", color_codes=True)"
   ]
  },
  {
   "cell_type": "markdown",
   "metadata": {},
   "source": [
    "# Data loading"
   ]
  },
  {
   "cell_type": "code",
   "execution_count": 120,
   "metadata": {
    "collapsed": true
   },
   "outputs": [],
   "source": [
    "train = pd.read_csv('../input/train.csv')\n",
    "leaderboard = pd.read_csv('../input/public_leaderboard.csv')"
   ]
  },
  {
   "cell_type": "markdown",
   "metadata": {},
   "source": [
    "# Table visualization"
   ]
  },
  {
   "cell_type": "markdown",
   "metadata": {},
   "source": [
    "Printing the first 5 rows of the train data (transposed for easier reading)"
   ]
  },
  {
   "cell_type": "code",
   "execution_count": 121,
   "metadata": {
    "collapsed": false
   },
   "outputs": [
    {
     "name": "stdout",
     "output_type": "stream",
     "text": [
      "(140272, 16)\n"
     ]
    },
    {
     "data": {
      "text/html": [
       "<div>\n",
       "<table border=\"1\" class=\"dataframe\">\n",
       "  <thead>\n",
       "    <tr style=\"text-align: right;\">\n",
       "      <th></th>\n",
       "      <th>0</th>\n",
       "      <th>1</th>\n",
       "      <th>2</th>\n",
       "      <th>3</th>\n",
       "      <th>4</th>\n",
       "    </tr>\n",
       "  </thead>\n",
       "  <tbody>\n",
       "    <tr>\n",
       "      <th>Unnamed: 0</th>\n",
       "      <td>0</td>\n",
       "      <td>1</td>\n",
       "      <td>2</td>\n",
       "      <td>3</td>\n",
       "      <td>4</td>\n",
       "    </tr>\n",
       "    <tr>\n",
       "      <th>PostId</th>\n",
       "      <td>6046168</td>\n",
       "      <td>4873911</td>\n",
       "      <td>3311559</td>\n",
       "      <td>9990413</td>\n",
       "      <td>10421966</td>\n",
       "    </tr>\n",
       "    <tr>\n",
       "      <th>PostCreationDate</th>\n",
       "      <td>05/18/2011 14:14:05</td>\n",
       "      <td>02/02/2011 11:30:10</td>\n",
       "      <td>07/22/2010 17:21:54</td>\n",
       "      <td>04/03/2012 09:18:39</td>\n",
       "      <td>05/02/2012 21:25:01</td>\n",
       "    </tr>\n",
       "    <tr>\n",
       "      <th>OwnerUserId</th>\n",
       "      <td>543315</td>\n",
       "      <td>465076</td>\n",
       "      <td>406143</td>\n",
       "      <td>851755</td>\n",
       "      <td>603588</td>\n",
       "    </tr>\n",
       "    <tr>\n",
       "      <th>OwnerCreationDate</th>\n",
       "      <td>09/17/2010 10:15:06</td>\n",
       "      <td>10/03/2010 09:30:58</td>\n",
       "      <td>07/22/2010 16:58:20</td>\n",
       "      <td>07/19/2011 10:22:40</td>\n",
       "      <td>02/04/2011 18:05:34</td>\n",
       "    </tr>\n",
       "    <tr>\n",
       "      <th>ReputationAtPostCreation</th>\n",
       "      <td>1</td>\n",
       "      <td>192</td>\n",
       "      <td>1</td>\n",
       "      <td>4</td>\n",
       "      <td>334</td>\n",
       "    </tr>\n",
       "    <tr>\n",
       "      <th>OwnerUndeletedAnswerCountAtPostTime</th>\n",
       "      <td>2</td>\n",
       "      <td>24</td>\n",
       "      <td>0</td>\n",
       "      <td>1</td>\n",
       "      <td>14</td>\n",
       "    </tr>\n",
       "    <tr>\n",
       "      <th>Title</th>\n",
       "      <td>For Mongodb is it better to reference an objec...</td>\n",
       "      <td>How to insert schemalocation in a xml document...</td>\n",
       "      <td>Too many lookup tables</td>\n",
       "      <td>What is this PHP code in VB.net</td>\n",
       "      <td>Spring-Data mongodb querying multiple classes ...</td>\n",
       "    </tr>\n",
       "    <tr>\n",
       "      <th>BodyMarkdown</th>\n",
       "      <td>I am building a corpus of indexed sentences in...</td>\n",
       "      <td>i create a xml document with JAXP and search a...</td>\n",
       "      <td>What are the adverse effects of having too man...</td>\n",
       "      <td>I am looking for the vb.net equivalent of this...</td>\n",
       "      <td>With Spring-Data, you can use the @Document an...</td>\n",
       "    </tr>\n",
       "    <tr>\n",
       "      <th>Tag1</th>\n",
       "      <td>mongodb</td>\n",
       "      <td>dom</td>\n",
       "      <td>sql-server</td>\n",
       "      <td>php</td>\n",
       "      <td>mongodb</td>\n",
       "    </tr>\n",
       "    <tr>\n",
       "      <th>Tag2</th>\n",
       "      <td>NaN</td>\n",
       "      <td>xsd</td>\n",
       "      <td>database-design</td>\n",
       "      <td>vb.net</td>\n",
       "      <td>spring-data</td>\n",
       "    </tr>\n",
       "    <tr>\n",
       "      <th>Tag3</th>\n",
       "      <td>NaN</td>\n",
       "      <td>jaxp</td>\n",
       "      <td>enums</td>\n",
       "      <td>NaN</td>\n",
       "      <td>NaN</td>\n",
       "    </tr>\n",
       "    <tr>\n",
       "      <th>Tag4</th>\n",
       "      <td>NaN</td>\n",
       "      <td>NaN</td>\n",
       "      <td>NaN</td>\n",
       "      <td>NaN</td>\n",
       "      <td>NaN</td>\n",
       "    </tr>\n",
       "    <tr>\n",
       "      <th>Tag5</th>\n",
       "      <td>NaN</td>\n",
       "      <td>NaN</td>\n",
       "      <td>NaN</td>\n",
       "      <td>NaN</td>\n",
       "      <td>NaN</td>\n",
       "    </tr>\n",
       "    <tr>\n",
       "      <th>PostClosedDate</th>\n",
       "      <td>NaN</td>\n",
       "      <td>NaN</td>\n",
       "      <td>NaN</td>\n",
       "      <td>04/15/2012 21:12:48</td>\n",
       "      <td>NaN</td>\n",
       "    </tr>\n",
       "    <tr>\n",
       "      <th>OpenStatus</th>\n",
       "      <td>1</td>\n",
       "      <td>1</td>\n",
       "      <td>1</td>\n",
       "      <td>0</td>\n",
       "      <td>1</td>\n",
       "    </tr>\n",
       "  </tbody>\n",
       "</table>\n",
       "</div>"
      ],
      "text/plain": [
       "                                                                                     0  \\\n",
       "Unnamed: 0                                                                           0   \n",
       "PostId                                                                         6046168   \n",
       "PostCreationDate                                                   05/18/2011 14:14:05   \n",
       "OwnerUserId                                                                     543315   \n",
       "OwnerCreationDate                                                  09/17/2010 10:15:06   \n",
       "ReputationAtPostCreation                                                             1   \n",
       "OwnerUndeletedAnswerCountAtPostTime                                                  2   \n",
       "Title                                For Mongodb is it better to reference an objec...   \n",
       "BodyMarkdown                         I am building a corpus of indexed sentences in...   \n",
       "Tag1                                                                           mongodb   \n",
       "Tag2                                                                               NaN   \n",
       "Tag3                                                                               NaN   \n",
       "Tag4                                                                               NaN   \n",
       "Tag5                                                                               NaN   \n",
       "PostClosedDate                                                                     NaN   \n",
       "OpenStatus                                                                           1   \n",
       "\n",
       "                                                                                     1  \\\n",
       "Unnamed: 0                                                                           1   \n",
       "PostId                                                                         4873911   \n",
       "PostCreationDate                                                   02/02/2011 11:30:10   \n",
       "OwnerUserId                                                                     465076   \n",
       "OwnerCreationDate                                                  10/03/2010 09:30:58   \n",
       "ReputationAtPostCreation                                                           192   \n",
       "OwnerUndeletedAnswerCountAtPostTime                                                 24   \n",
       "Title                                How to insert schemalocation in a xml document...   \n",
       "BodyMarkdown                         i create a xml document with JAXP and search a...   \n",
       "Tag1                                                                               dom   \n",
       "Tag2                                                                               xsd   \n",
       "Tag3                                                                              jaxp   \n",
       "Tag4                                                                               NaN   \n",
       "Tag5                                                                               NaN   \n",
       "PostClosedDate                                                                     NaN   \n",
       "OpenStatus                                                                           1   \n",
       "\n",
       "                                                                                     2  \\\n",
       "Unnamed: 0                                                                           2   \n",
       "PostId                                                                         3311559   \n",
       "PostCreationDate                                                   07/22/2010 17:21:54   \n",
       "OwnerUserId                                                                     406143   \n",
       "OwnerCreationDate                                                  07/22/2010 16:58:20   \n",
       "ReputationAtPostCreation                                                             1   \n",
       "OwnerUndeletedAnswerCountAtPostTime                                                  0   \n",
       "Title                                                          Too many lookup tables    \n",
       "BodyMarkdown                         What are the adverse effects of having too man...   \n",
       "Tag1                                                                        sql-server   \n",
       "Tag2                                                                   database-design   \n",
       "Tag3                                                                             enums   \n",
       "Tag4                                                                               NaN   \n",
       "Tag5                                                                               NaN   \n",
       "PostClosedDate                                                                     NaN   \n",
       "OpenStatus                                                                           1   \n",
       "\n",
       "                                                                                     3  \\\n",
       "Unnamed: 0                                                                           3   \n",
       "PostId                                                                         9990413   \n",
       "PostCreationDate                                                   04/03/2012 09:18:39   \n",
       "OwnerUserId                                                                     851755   \n",
       "OwnerCreationDate                                                  07/19/2011 10:22:40   \n",
       "ReputationAtPostCreation                                                             4   \n",
       "OwnerUndeletedAnswerCountAtPostTime                                                  1   \n",
       "Title                                                  What is this PHP code in VB.net   \n",
       "BodyMarkdown                         I am looking for the vb.net equivalent of this...   \n",
       "Tag1                                                                               php   \n",
       "Tag2                                                                            vb.net   \n",
       "Tag3                                                                               NaN   \n",
       "Tag4                                                                               NaN   \n",
       "Tag5                                                                               NaN   \n",
       "PostClosedDate                                                     04/15/2012 21:12:48   \n",
       "OpenStatus                                                                           0   \n",
       "\n",
       "                                                                                     4  \n",
       "Unnamed: 0                                                                           4  \n",
       "PostId                                                                        10421966  \n",
       "PostCreationDate                                                   05/02/2012 21:25:01  \n",
       "OwnerUserId                                                                     603588  \n",
       "OwnerCreationDate                                                  02/04/2011 18:05:34  \n",
       "ReputationAtPostCreation                                                           334  \n",
       "OwnerUndeletedAnswerCountAtPostTime                                                 14  \n",
       "Title                                Spring-Data mongodb querying multiple classes ...  \n",
       "BodyMarkdown                         With Spring-Data, you can use the @Document an...  \n",
       "Tag1                                                                           mongodb  \n",
       "Tag2                                                                       spring-data  \n",
       "Tag3                                                                               NaN  \n",
       "Tag4                                                                               NaN  \n",
       "Tag5                                                                               NaN  \n",
       "PostClosedDate                                                                     NaN  \n",
       "OpenStatus                                                                           1  "
      ]
     },
     "execution_count": 121,
     "metadata": {},
     "output_type": "execute_result"
    }
   ],
   "source": [
    "print(train.shape)\n",
    "train.head().transpose()"
   ]
  },
  {
   "cell_type": "markdown",
   "metadata": {},
   "source": [
    "Printing the first 5 rows of the train data (transposed for easier reading)"
   ]
  },
  {
   "cell_type": "code",
   "execution_count": 122,
   "metadata": {
    "collapsed": false
   },
   "outputs": [
    {
     "name": "stdout",
     "output_type": "stream",
     "text": [
      "(73290, 13)\n"
     ]
    },
    {
     "data": {
      "text/html": [
       "<div>\n",
       "<table border=\"1\" class=\"dataframe\">\n",
       "  <thead>\n",
       "    <tr style=\"text-align: right;\">\n",
       "      <th></th>\n",
       "      <th>0</th>\n",
       "      <th>1</th>\n",
       "      <th>2</th>\n",
       "      <th>3</th>\n",
       "      <th>4</th>\n",
       "    </tr>\n",
       "  </thead>\n",
       "  <tbody>\n",
       "    <tr>\n",
       "      <th>PostId</th>\n",
       "      <td>11768878</td>\n",
       "      <td>11768880</td>\n",
       "      <td>11803678</td>\n",
       "      <td>11803496</td>\n",
       "      <td>11803700</td>\n",
       "    </tr>\n",
       "    <tr>\n",
       "      <th>PostCreationDate</th>\n",
       "      <td>08/01/2012 23:10:12</td>\n",
       "      <td>08/01/2012 23:10:21</td>\n",
       "      <td>08/03/2012 21:40:49</td>\n",
       "      <td>08/03/2012 21:24:02</td>\n",
       "      <td>08/03/2012 21:43:13</td>\n",
       "    </tr>\n",
       "    <tr>\n",
       "      <th>OwnerUserId</th>\n",
       "      <td>756422</td>\n",
       "      <td>1569892</td>\n",
       "      <td>1301879</td>\n",
       "      <td>1196150</td>\n",
       "      <td>772581</td>\n",
       "    </tr>\n",
       "    <tr>\n",
       "      <th>OwnerCreationDate</th>\n",
       "      <td>05/16/2011 21:49:59</td>\n",
       "      <td>08/01/2012 22:24:37</td>\n",
       "      <td>03/29/2012 21:01:29</td>\n",
       "      <td>02/08/2012 02:20:44</td>\n",
       "      <td>11/13/2009 16:24:05</td>\n",
       "    </tr>\n",
       "    <tr>\n",
       "      <th>ReputationAtPostCreation</th>\n",
       "      <td>155</td>\n",
       "      <td>1</td>\n",
       "      <td>781</td>\n",
       "      <td>538</td>\n",
       "      <td>70</td>\n",
       "    </tr>\n",
       "    <tr>\n",
       "      <th>OwnerUndeletedAnswerCountAtPostTime</th>\n",
       "      <td>11</td>\n",
       "      <td>0</td>\n",
       "      <td>37</td>\n",
       "      <td>0</td>\n",
       "      <td>2</td>\n",
       "    </tr>\n",
       "    <tr>\n",
       "      <th>Title</th>\n",
       "      <td>Maven &amp; yui-compressor Plugin issues</td>\n",
       "      <td>Inconsistent behaviour of html select dropdowns</td>\n",
       "      <td>Why Does MSFT C# Compiler Compile fixed Statem...</td>\n",
       "      <td>Dump sql file to ClearDB in Heroku</td>\n",
       "      <td>mysql query to get rows with conditions</td>\n",
       "    </tr>\n",
       "    <tr>\n",
       "      <th>BodyMarkdown</th>\n",
       "      <td>I'm using the yui-compressor plugin for maven ...</td>\n",
       "      <td>I have written a javascript-generated web page...</td>\n",
       "      <td>The .NET c# compiler (.NET 4.0) compiles the `...</td>\n",
       "      <td>I have a sql file that I want to be dumped int...</td>\n",
       "      <td>\\r\\nI have a table called \"articles\" on the da...</td>\n",
       "    </tr>\n",
       "    <tr>\n",
       "      <th>Tag1</th>\n",
       "      <td>maven</td>\n",
       "      <td>html</td>\n",
       "      <td>c#</td>\n",
       "      <td>mysql</td>\n",
       "      <td>mysql</td>\n",
       "    </tr>\n",
       "    <tr>\n",
       "      <th>Tag2</th>\n",
       "      <td>maven-3</td>\n",
       "      <td>select</td>\n",
       "      <td>.net</td>\n",
       "      <td>ruby-on-rails</td>\n",
       "      <td>query</td>\n",
       "    </tr>\n",
       "    <tr>\n",
       "      <th>Tag3</th>\n",
       "      <td>yui-compressor</td>\n",
       "      <td>drop-down-menu</td>\n",
       "      <td>compiler</td>\n",
       "      <td>heroku</td>\n",
       "      <td>NaN</td>\n",
       "    </tr>\n",
       "    <tr>\n",
       "      <th>Tag4</th>\n",
       "      <td>NaN</td>\n",
       "      <td>scrollbar</td>\n",
       "      <td>il</td>\n",
       "      <td>NaN</td>\n",
       "      <td>NaN</td>\n",
       "    </tr>\n",
       "    <tr>\n",
       "      <th>Tag5</th>\n",
       "      <td>NaN</td>\n",
       "      <td>NaN</td>\n",
       "      <td>NaN</td>\n",
       "      <td>NaN</td>\n",
       "      <td>NaN</td>\n",
       "    </tr>\n",
       "  </tbody>\n",
       "</table>\n",
       "</div>"
      ],
      "text/plain": [
       "                                                                                     0  \\\n",
       "PostId                                                                        11768878   \n",
       "PostCreationDate                                                   08/01/2012 23:10:12   \n",
       "OwnerUserId                                                                     756422   \n",
       "OwnerCreationDate                                                  05/16/2011 21:49:59   \n",
       "ReputationAtPostCreation                                                           155   \n",
       "OwnerUndeletedAnswerCountAtPostTime                                                 11   \n",
       "Title                                             Maven & yui-compressor Plugin issues   \n",
       "BodyMarkdown                         I'm using the yui-compressor plugin for maven ...   \n",
       "Tag1                                                                             maven   \n",
       "Tag2                                                                           maven-3   \n",
       "Tag3                                                                    yui-compressor   \n",
       "Tag4                                                                               NaN   \n",
       "Tag5                                                                               NaN   \n",
       "\n",
       "                                                                                     1  \\\n",
       "PostId                                                                        11768880   \n",
       "PostCreationDate                                                   08/01/2012 23:10:21   \n",
       "OwnerUserId                                                                    1569892   \n",
       "OwnerCreationDate                                                  08/01/2012 22:24:37   \n",
       "ReputationAtPostCreation                                                             1   \n",
       "OwnerUndeletedAnswerCountAtPostTime                                                  0   \n",
       "Title                                  Inconsistent behaviour of html select dropdowns   \n",
       "BodyMarkdown                         I have written a javascript-generated web page...   \n",
       "Tag1                                                                              html   \n",
       "Tag2                                                                            select   \n",
       "Tag3                                                                    drop-down-menu   \n",
       "Tag4                                                                         scrollbar   \n",
       "Tag5                                                                               NaN   \n",
       "\n",
       "                                                                                     2  \\\n",
       "PostId                                                                        11803678   \n",
       "PostCreationDate                                                   08/03/2012 21:40:49   \n",
       "OwnerUserId                                                                    1301879   \n",
       "OwnerCreationDate                                                  03/29/2012 21:01:29   \n",
       "ReputationAtPostCreation                                                           781   \n",
       "OwnerUndeletedAnswerCountAtPostTime                                                 37   \n",
       "Title                                Why Does MSFT C# Compiler Compile fixed Statem...   \n",
       "BodyMarkdown                         The .NET c# compiler (.NET 4.0) compiles the `...   \n",
       "Tag1                                                                                c#   \n",
       "Tag2                                                                              .net   \n",
       "Tag3                                                                          compiler   \n",
       "Tag4                                                                                il   \n",
       "Tag5                                                                               NaN   \n",
       "\n",
       "                                                                                     3  \\\n",
       "PostId                                                                        11803496   \n",
       "PostCreationDate                                                   08/03/2012 21:24:02   \n",
       "OwnerUserId                                                                    1196150   \n",
       "OwnerCreationDate                                                  02/08/2012 02:20:44   \n",
       "ReputationAtPostCreation                                                           538   \n",
       "OwnerUndeletedAnswerCountAtPostTime                                                  0   \n",
       "Title                                               Dump sql file to ClearDB in Heroku   \n",
       "BodyMarkdown                         I have a sql file that I want to be dumped int...   \n",
       "Tag1                                                                             mysql   \n",
       "Tag2                                                                     ruby-on-rails   \n",
       "Tag3                                                                            heroku   \n",
       "Tag4                                                                               NaN   \n",
       "Tag5                                                                               NaN   \n",
       "\n",
       "                                                                                     4  \n",
       "PostId                                                                        11803700  \n",
       "PostCreationDate                                                   08/03/2012 21:43:13  \n",
       "OwnerUserId                                                                     772581  \n",
       "OwnerCreationDate                                                  11/13/2009 16:24:05  \n",
       "ReputationAtPostCreation                                                            70  \n",
       "OwnerUndeletedAnswerCountAtPostTime                                                  2  \n",
       "Title                                          mysql query to get rows with conditions  \n",
       "BodyMarkdown                         \\r\\nI have a table called \"articles\" on the da...  \n",
       "Tag1                                                                             mysql  \n",
       "Tag2                                                                             query  \n",
       "Tag3                                                                               NaN  \n",
       "Tag4                                                                               NaN  \n",
       "Tag5                                                                               NaN  "
      ]
     },
     "execution_count": 122,
     "metadata": {},
     "output_type": "execute_result"
    }
   ],
   "source": [
    "print(leaderboard.shape)\n",
    "leaderboard.head().transpose()"
   ]
  },
  {
   "cell_type": "markdown",
   "metadata": {},
   "source": [
    "# Columns dropping"
   ]
  },
  {
   "cell_type": "markdown",
   "metadata": {},
   "source": [
    "We now drop the columns that we will not be using for our predictions."
   ]
  },
  {
   "cell_type": "code",
   "execution_count": 123,
   "metadata": {
    "collapsed": false
   },
   "outputs": [
    {
     "name": "stdout",
     "output_type": "stream",
     "text": [
      "(140272, 11) (73290, 10)\n"
     ]
    }
   ],
   "source": [
    "train.drop(['PostId', 'PostCreationDate', 'OwnerUserId', 'OwnerCreationDate', 'PostClosedDate'], axis = 1, inplace = True)\n",
    "leaderboard.drop(['PostCreationDate', 'OwnerUserId', 'OwnerCreationDate'], axis = 1, inplace = True)\n",
    "print(train.shape, leaderboard.shape)"
   ]
  },
  {
   "cell_type": "markdown",
   "metadata": {},
   "source": [
    "# Histograms"
   ]
  },
  {
   "cell_type": "markdown",
   "metadata": {},
   "source": [
    "# Tag manipulation"
   ]
  },
  {
   "cell_type": "markdown",
   "metadata": {},
   "source": [
    "Extracting the tags from the train set."
   ]
  },
  {
   "cell_type": "code",
   "execution_count": 124,
   "metadata": {
    "collapsed": false
   },
   "outputs": [],
   "source": [
    "tag_columns = ['Tag%d' % tag_number for tag_number in range(1, 6)]\n",
    "tags = train.loc[:, tag_columns]\n",
    "all_tags = pd.concat([tags[col] for col in tags.columns], axis = 0).dropna()"
   ]
  },
  {
   "cell_type": "markdown",
   "metadata": {},
   "source": [
    "Counting the number of occurence of each tag."
   ]
  },
  {
   "cell_type": "code",
   "execution_count": 125,
   "metadata": {
    "collapsed": false
   },
   "outputs": [
    {
     "data": {
      "text/plain": [
       "php           13134\n",
       "c#            12076\n",
       "java          11870\n",
       "javascript     8925\n",
       "android        8502\n",
       "dtype: int64"
      ]
     },
     "execution_count": 125,
     "metadata": {},
     "output_type": "execute_result"
    }
   ],
   "source": [
    "tag_frequency = all_tags.value_counts()\n",
    "tag_frequency.head()"
   ]
  },
  {
   "cell_type": "markdown",
   "metadata": {},
   "source": [
    "Selecting the tags that appears at least 500 times."
   ]
  },
  {
   "cell_type": "code",
   "execution_count": 126,
   "metadata": {
    "collapsed": false
   },
   "outputs": [
    {
     "name": "stdout",
     "output_type": "stream",
     "text": [
      "Index(['php', 'c#', 'java', 'javascript', 'android', 'jquery', 'c++', 'iphone',\n",
      "       'python', 'html'],\n",
      "      dtype='object')\n",
      "86 tags\n"
     ]
    }
   ],
   "source": [
    "most_common_tags = tag_frequency[tag_frequency > 500]\n",
    "print(most_common_tags.keys()[:10])\n",
    "print('%d tags' % most_common_tags.shape[0])"
   ]
  },
  {
   "cell_type": "markdown",
   "metadata": {},
   "source": [
    "Adding new columns to the DataFrame indicating the presence of a given keyword in the keywords and removing the now useless tag columns."
   ]
  },
  {
   "cell_type": "code",
   "execution_count": 127,
   "metadata": {
    "collapsed": false
   },
   "outputs": [],
   "source": [
    "def add_tag_dummies(df, tags):\n",
    "    tag_cols = df.loc[:, tag_columns]\n",
    "\n",
    "    for tag in tags:\n",
    "        tag_present = pd.concat([tag_cols[col] == tag for col in tag_columns], axis = 1).any(axis = 1)\n",
    "        df['Tag ' + tag] = tag_present\n",
    "\n",
    "    df.drop(tag_columns, axis = 1, inplace = True)\n",
    "    \n",
    "tags = most_common_tags.keys()\n",
    "add_tag_dummies(train, tags)\n",
    "add_tag_dummies(leaderboard, tags)"
   ]
  },
  {
   "cell_type": "code",
   "execution_count": 128,
   "metadata": {
    "collapsed": false
   },
   "outputs": [
    {
     "data": {
      "text/html": [
       "<div>\n",
       "<table border=\"1\" class=\"dataframe\">\n",
       "  <thead>\n",
       "    <tr style=\"text-align: right;\">\n",
       "      <th></th>\n",
       "      <th>Unnamed: 0</th>\n",
       "      <th>ReputationAtPostCreation</th>\n",
       "      <th>OwnerUndeletedAnswerCountAtPostTime</th>\n",
       "      <th>Title</th>\n",
       "      <th>BodyMarkdown</th>\n",
       "      <th>OpenStatus</th>\n",
       "      <th>Tag php</th>\n",
       "      <th>Tag c#</th>\n",
       "      <th>Tag java</th>\n",
       "      <th>Tag javascript</th>\n",
       "      <th>...</th>\n",
       "      <th>Tag programming-languages</th>\n",
       "      <th>Tag email</th>\n",
       "      <th>Tag spring</th>\n",
       "      <th>Tag query</th>\n",
       "      <th>Tag file</th>\n",
       "      <th>Tag r</th>\n",
       "      <th>Tag unix</th>\n",
       "      <th>Tag excel</th>\n",
       "      <th>Tag actionscript-3</th>\n",
       "      <th>Tag flex</th>\n",
       "    </tr>\n",
       "  </thead>\n",
       "  <tbody>\n",
       "    <tr>\n",
       "      <th>0</th>\n",
       "      <td>0</td>\n",
       "      <td>1</td>\n",
       "      <td>2</td>\n",
       "      <td>For Mongodb is it better to reference an objec...</td>\n",
       "      <td>I am building a corpus of indexed sentences in...</td>\n",
       "      <td>1</td>\n",
       "      <td>False</td>\n",
       "      <td>False</td>\n",
       "      <td>False</td>\n",
       "      <td>False</td>\n",
       "      <td>...</td>\n",
       "      <td>False</td>\n",
       "      <td>False</td>\n",
       "      <td>False</td>\n",
       "      <td>False</td>\n",
       "      <td>False</td>\n",
       "      <td>False</td>\n",
       "      <td>False</td>\n",
       "      <td>False</td>\n",
       "      <td>False</td>\n",
       "      <td>False</td>\n",
       "    </tr>\n",
       "    <tr>\n",
       "      <th>1</th>\n",
       "      <td>1</td>\n",
       "      <td>192</td>\n",
       "      <td>24</td>\n",
       "      <td>How to insert schemalocation in a xml document...</td>\n",
       "      <td>i create a xml document with JAXP and search a...</td>\n",
       "      <td>1</td>\n",
       "      <td>False</td>\n",
       "      <td>False</td>\n",
       "      <td>False</td>\n",
       "      <td>False</td>\n",
       "      <td>...</td>\n",
       "      <td>False</td>\n",
       "      <td>False</td>\n",
       "      <td>False</td>\n",
       "      <td>False</td>\n",
       "      <td>False</td>\n",
       "      <td>False</td>\n",
       "      <td>False</td>\n",
       "      <td>False</td>\n",
       "      <td>False</td>\n",
       "      <td>False</td>\n",
       "    </tr>\n",
       "    <tr>\n",
       "      <th>2</th>\n",
       "      <td>2</td>\n",
       "      <td>1</td>\n",
       "      <td>0</td>\n",
       "      <td>Too many lookup tables</td>\n",
       "      <td>What are the adverse effects of having too man...</td>\n",
       "      <td>1</td>\n",
       "      <td>False</td>\n",
       "      <td>False</td>\n",
       "      <td>False</td>\n",
       "      <td>False</td>\n",
       "      <td>...</td>\n",
       "      <td>False</td>\n",
       "      <td>False</td>\n",
       "      <td>False</td>\n",
       "      <td>False</td>\n",
       "      <td>False</td>\n",
       "      <td>False</td>\n",
       "      <td>False</td>\n",
       "      <td>False</td>\n",
       "      <td>False</td>\n",
       "      <td>False</td>\n",
       "    </tr>\n",
       "    <tr>\n",
       "      <th>3</th>\n",
       "      <td>3</td>\n",
       "      <td>4</td>\n",
       "      <td>1</td>\n",
       "      <td>What is this PHP code in VB.net</td>\n",
       "      <td>I am looking for the vb.net equivalent of this...</td>\n",
       "      <td>0</td>\n",
       "      <td>True</td>\n",
       "      <td>False</td>\n",
       "      <td>False</td>\n",
       "      <td>False</td>\n",
       "      <td>...</td>\n",
       "      <td>False</td>\n",
       "      <td>False</td>\n",
       "      <td>False</td>\n",
       "      <td>False</td>\n",
       "      <td>False</td>\n",
       "      <td>False</td>\n",
       "      <td>False</td>\n",
       "      <td>False</td>\n",
       "      <td>False</td>\n",
       "      <td>False</td>\n",
       "    </tr>\n",
       "    <tr>\n",
       "      <th>4</th>\n",
       "      <td>4</td>\n",
       "      <td>334</td>\n",
       "      <td>14</td>\n",
       "      <td>Spring-Data mongodb querying multiple classes ...</td>\n",
       "      <td>With Spring-Data, you can use the @Document an...</td>\n",
       "      <td>1</td>\n",
       "      <td>False</td>\n",
       "      <td>False</td>\n",
       "      <td>False</td>\n",
       "      <td>False</td>\n",
       "      <td>...</td>\n",
       "      <td>False</td>\n",
       "      <td>False</td>\n",
       "      <td>False</td>\n",
       "      <td>False</td>\n",
       "      <td>False</td>\n",
       "      <td>False</td>\n",
       "      <td>False</td>\n",
       "      <td>False</td>\n",
       "      <td>False</td>\n",
       "      <td>False</td>\n",
       "    </tr>\n",
       "  </tbody>\n",
       "</table>\n",
       "<p>5 rows × 92 columns</p>\n",
       "</div>"
      ],
      "text/plain": [
       "   Unnamed: 0  ReputationAtPostCreation  OwnerUndeletedAnswerCountAtPostTime  \\\n",
       "0           0                         1                                    2   \n",
       "1           1                       192                                   24   \n",
       "2           2                         1                                    0   \n",
       "3           3                         4                                    1   \n",
       "4           4                       334                                   14   \n",
       "\n",
       "                                               Title  \\\n",
       "0  For Mongodb is it better to reference an objec...   \n",
       "1  How to insert schemalocation in a xml document...   \n",
       "2                            Too many lookup tables    \n",
       "3                    What is this PHP code in VB.net   \n",
       "4  Spring-Data mongodb querying multiple classes ...   \n",
       "\n",
       "                                        BodyMarkdown  OpenStatus Tag php  \\\n",
       "0  I am building a corpus of indexed sentences in...           1   False   \n",
       "1  i create a xml document with JAXP and search a...           1   False   \n",
       "2  What are the adverse effects of having too man...           1   False   \n",
       "3  I am looking for the vb.net equivalent of this...           0    True   \n",
       "4  With Spring-Data, you can use the @Document an...           1   False   \n",
       "\n",
       "  Tag c# Tag java Tag javascript   ...    Tag programming-languages Tag email  \\\n",
       "0  False    False          False   ...                        False     False   \n",
       "1  False    False          False   ...                        False     False   \n",
       "2  False    False          False   ...                        False     False   \n",
       "3  False    False          False   ...                        False     False   \n",
       "4  False    False          False   ...                        False     False   \n",
       "\n",
       "  Tag spring Tag query Tag file  Tag r Tag unix Tag excel Tag actionscript-3  \\\n",
       "0      False     False    False  False    False     False              False   \n",
       "1      False     False    False  False    False     False              False   \n",
       "2      False     False    False  False    False     False              False   \n",
       "3      False     False    False  False    False     False              False   \n",
       "4      False     False    False  False    False     False              False   \n",
       "\n",
       "  Tag flex  \n",
       "0    False  \n",
       "1    False  \n",
       "2    False  \n",
       "3    False  \n",
       "4    False  \n",
       "\n",
       "[5 rows x 92 columns]"
      ]
     },
     "execution_count": 128,
     "metadata": {},
     "output_type": "execute_result"
    }
   ],
   "source": [
    "train.head()"
   ]
  },
  {
   "cell_type": "markdown",
   "metadata": {
    "collapsed": true
   },
   "source": [
    "# Title and body manipulation"
   ]
  },
  {
   "cell_type": "markdown",
   "metadata": {},
   "source": [
    "Importing the CountVectorizer which will select the most common words and transform them into feature matrices."
   ]
  },
  {
   "cell_type": "code",
   "execution_count": 129,
   "metadata": {
    "collapsed": true
   },
   "outputs": [],
   "source": [
    "from sklearn.feature_extraction.text import CountVectorizer"
   ]
  },
  {
   "cell_type": "code",
   "execution_count": 130,
   "metadata": {
    "collapsed": false
   },
   "outputs": [],
   "source": [
    "def extract_information(train_df, test_df, column_name, max_features):\n",
    "    vectorizer = CountVectorizer(max_features=max_features)\n",
    "    lowercase_train_col = train_df[column_name].apply(str.lower)    \n",
    "    lowercase_test_col  = test_df[column_name].apply(str.lower)\n",
    "    # Count the words in train and only keep the 'max_features' most common\n",
    "    vectorizer.fit(lowercase_train_col)\n",
    "    # Associate to each entry a (1, max_features) vector corresponding to \n",
    "    # the number of occurences of a given word\n",
    "    train_bow_matrix = vectorizer.transform(lowercase_train_col).todense()\n",
    "    test_bow_matrix  = vectorizer.transform(lowercase_test_col ).todense()\n",
    "    # Combine all these results in a pandas dataframe with proper columns names\n",
    "    column_names = ['%s %s' % (column_name, word) for word in vectorizer.get_feature_names()]\n",
    "    train_df_expansion = pd.DataFrame(train_bow_matrix, index = train_df.index, columns = column_names)\n",
    "    test_df_expansion  = pd.DataFrame(test_bow_matrix , index = test_df.index , columns = column_names)\n",
    "    \n",
    "    return train_df.join(train_df_expansion), test_df.join(test_df_expansion)"
   ]
  },
  {
   "cell_type": "code",
   "execution_count": 131,
   "metadata": {
    "collapsed": false
   },
   "outputs": [
    {
     "ename": "ValueError",
     "evalue": "columns overlap but no suffix specified: Index(['Title about', 'Title access', 'Title add', 'Title after', 'Title ajax',\n       'Title all', 'Title an', 'Title and', 'Title android', 'Title another',\n       ...\n       'Title while', 'Title why', 'Title windows', 'Title with',\n       'Title without', 'Title work', 'Title working', 'Title write',\n       'Title xml', 'Title you'],\n      dtype='object', length=188)",
     "output_type": "error",
     "traceback": [
      "\u001b[0;31m---------------------------------------------------------------------------\u001b[0m",
      "\u001b[0;31mValueError\u001b[0m                                Traceback (most recent call last)",
      "\u001b[0;32m<ipython-input-131-a8a3bb0ae12b>\u001b[0m in \u001b[0;36m<module>\u001b[0;34m()\u001b[0m\n\u001b[1;32m      1\u001b[0m \u001b[0mtrain\u001b[0m\u001b[0;34m,\u001b[0m \u001b[0mleaderboard\u001b[0m \u001b[0;34m=\u001b[0m \u001b[0mextract_information\u001b[0m\u001b[0;34m(\u001b[0m\u001b[0mtrain\u001b[0m\u001b[0;34m,\u001b[0m \u001b[0mleaderboard\u001b[0m\u001b[0;34m,\u001b[0m \u001b[0;34m'Title'\u001b[0m       \u001b[0;34m,\u001b[0m \u001b[0;36m200\u001b[0m\u001b[0;34m)\u001b[0m\u001b[0;34m\u001b[0m\u001b[0m\n\u001b[0;32m----> 2\u001b[0;31m \u001b[0mtrain\u001b[0m\u001b[0;34m,\u001b[0m \u001b[0mleaderboard\u001b[0m \u001b[0;34m=\u001b[0m \u001b[0mextract_information\u001b[0m\u001b[0;34m(\u001b[0m\u001b[0mtrain\u001b[0m\u001b[0;34m,\u001b[0m \u001b[0mleaderboard\u001b[0m\u001b[0;34m,\u001b[0m \u001b[0;34m'BodyMarkdown'\u001b[0m\u001b[0;34m,\u001b[0m \u001b[0;36m500\u001b[0m\u001b[0;34m)\u001b[0m\u001b[0;34m\u001b[0m\u001b[0m\n\u001b[0m",
      "\u001b[0;32m<ipython-input-130-3963379c7469>\u001b[0m in \u001b[0;36mextract_information\u001b[0;34m(train_df, test_df, column_name, max_features)\u001b[0m\n\u001b[1;32m     14\u001b[0m     \u001b[0mtest_df_expansion\u001b[0m  \u001b[0;34m=\u001b[0m \u001b[0mpd\u001b[0m\u001b[0;34m.\u001b[0m\u001b[0mDataFrame\u001b[0m\u001b[0;34m(\u001b[0m\u001b[0mtest_bow_matrix\u001b[0m \u001b[0;34m,\u001b[0m \u001b[0mindex\u001b[0m \u001b[0;34m=\u001b[0m \u001b[0mtest_df\u001b[0m\u001b[0;34m.\u001b[0m\u001b[0mindex\u001b[0m \u001b[0;34m,\u001b[0m \u001b[0mcolumns\u001b[0m \u001b[0;34m=\u001b[0m \u001b[0mcolumn_names\u001b[0m\u001b[0;34m)\u001b[0m\u001b[0;34m\u001b[0m\u001b[0m\n\u001b[1;32m     15\u001b[0m \u001b[0;34m\u001b[0m\u001b[0m\n\u001b[0;32m---> 16\u001b[0;31m     \u001b[0;32mreturn\u001b[0m \u001b[0mtrain_df\u001b[0m\u001b[0;34m.\u001b[0m\u001b[0mjoin\u001b[0m\u001b[0;34m(\u001b[0m\u001b[0mtrain_df_expansion\u001b[0m\u001b[0;34m)\u001b[0m\u001b[0;34m,\u001b[0m \u001b[0mtest_df\u001b[0m\u001b[0;34m.\u001b[0m\u001b[0mjoin\u001b[0m\u001b[0;34m(\u001b[0m\u001b[0mtest_df_expansion\u001b[0m\u001b[0;34m)\u001b[0m\u001b[0;34m\u001b[0m\u001b[0m\n\u001b[0m",
      "\u001b[0;32m/home/greg/anaconda3/lib/python3.5/site-packages/pandas/core/frame.py\u001b[0m in \u001b[0;36mjoin\u001b[0;34m(self, other, on, how, lsuffix, rsuffix, sort)\u001b[0m\n\u001b[1;32m   4383\u001b[0m         \u001b[0;31m# For SparseDataFrame's benefit\u001b[0m\u001b[0;34m\u001b[0m\u001b[0;34m\u001b[0m\u001b[0m\n\u001b[1;32m   4384\u001b[0m         return self._join_compat(other, on=on, how=how, lsuffix=lsuffix,\n\u001b[0;32m-> 4385\u001b[0;31m                                  rsuffix=rsuffix, sort=sort)\n\u001b[0m\u001b[1;32m   4386\u001b[0m \u001b[0;34m\u001b[0m\u001b[0m\n\u001b[1;32m   4387\u001b[0m     def _join_compat(self, other, on=None, how='left', lsuffix='', rsuffix='',\n",
      "\u001b[0;32m/home/greg/anaconda3/lib/python3.5/site-packages/pandas/core/frame.py\u001b[0m in \u001b[0;36m_join_compat\u001b[0;34m(self, other, on, how, lsuffix, rsuffix, sort)\u001b[0m\n\u001b[1;32m   4397\u001b[0m             return merge(self, other, left_on=on, how=how,\n\u001b[1;32m   4398\u001b[0m                          \u001b[0mleft_index\u001b[0m\u001b[0;34m=\u001b[0m\u001b[0mon\u001b[0m \u001b[0;32mis\u001b[0m \u001b[0;32mNone\u001b[0m\u001b[0;34m,\u001b[0m \u001b[0mright_index\u001b[0m\u001b[0;34m=\u001b[0m\u001b[0;32mTrue\u001b[0m\u001b[0;34m,\u001b[0m\u001b[0;34m\u001b[0m\u001b[0m\n\u001b[0;32m-> 4399\u001b[0;31m                          suffixes=(lsuffix, rsuffix), sort=sort)\n\u001b[0m\u001b[1;32m   4400\u001b[0m         \u001b[0;32melse\u001b[0m\u001b[0;34m:\u001b[0m\u001b[0;34m\u001b[0m\u001b[0m\n\u001b[1;32m   4401\u001b[0m             \u001b[0;32mif\u001b[0m \u001b[0mon\u001b[0m \u001b[0;32mis\u001b[0m \u001b[0;32mnot\u001b[0m \u001b[0;32mNone\u001b[0m\u001b[0;34m:\u001b[0m\u001b[0;34m\u001b[0m\u001b[0m\n",
      "\u001b[0;32m/home/greg/anaconda3/lib/python3.5/site-packages/pandas/tools/merge.py\u001b[0m in \u001b[0;36mmerge\u001b[0;34m(left, right, how, on, left_on, right_on, left_index, right_index, sort, suffixes, copy, indicator)\u001b[0m\n\u001b[1;32m     37\u001b[0m                          \u001b[0mright_index\u001b[0m\u001b[0;34m=\u001b[0m\u001b[0mright_index\u001b[0m\u001b[0;34m,\u001b[0m \u001b[0msort\u001b[0m\u001b[0;34m=\u001b[0m\u001b[0msort\u001b[0m\u001b[0;34m,\u001b[0m \u001b[0msuffixes\u001b[0m\u001b[0;34m=\u001b[0m\u001b[0msuffixes\u001b[0m\u001b[0;34m,\u001b[0m\u001b[0;34m\u001b[0m\u001b[0m\n\u001b[1;32m     38\u001b[0m                          copy=copy, indicator=indicator)\n\u001b[0;32m---> 39\u001b[0;31m     \u001b[0;32mreturn\u001b[0m \u001b[0mop\u001b[0m\u001b[0;34m.\u001b[0m\u001b[0mget_result\u001b[0m\u001b[0;34m(\u001b[0m\u001b[0;34m)\u001b[0m\u001b[0;34m\u001b[0m\u001b[0m\n\u001b[0m\u001b[1;32m     40\u001b[0m \u001b[0;32mif\u001b[0m \u001b[0m__debug__\u001b[0m\u001b[0;34m:\u001b[0m\u001b[0;34m\u001b[0m\u001b[0m\n\u001b[1;32m     41\u001b[0m     \u001b[0mmerge\u001b[0m\u001b[0;34m.\u001b[0m\u001b[0m__doc__\u001b[0m \u001b[0;34m=\u001b[0m \u001b[0m_merge_doc\u001b[0m \u001b[0;34m%\u001b[0m \u001b[0;34m'\\nleft : DataFrame'\u001b[0m\u001b[0;34m\u001b[0m\u001b[0m\n",
      "\u001b[0;32m/home/greg/anaconda3/lib/python3.5/site-packages/pandas/tools/merge.py\u001b[0m in \u001b[0;36mget_result\u001b[0;34m(self)\u001b[0m\n\u001b[1;32m    221\u001b[0m \u001b[0;34m\u001b[0m\u001b[0m\n\u001b[1;32m    222\u001b[0m         llabels, rlabels = items_overlap_with_suffix(ldata.items, lsuf,\n\u001b[0;32m--> 223\u001b[0;31m                                                      rdata.items, rsuf)\n\u001b[0m\u001b[1;32m    224\u001b[0m \u001b[0;34m\u001b[0m\u001b[0m\n\u001b[1;32m    225\u001b[0m         \u001b[0mlindexers\u001b[0m \u001b[0;34m=\u001b[0m \u001b[0;34m{\u001b[0m\u001b[0;36m1\u001b[0m\u001b[0;34m:\u001b[0m \u001b[0mleft_indexer\u001b[0m\u001b[0;34m}\u001b[0m \u001b[0;32mif\u001b[0m \u001b[0mleft_indexer\u001b[0m \u001b[0;32mis\u001b[0m \u001b[0;32mnot\u001b[0m \u001b[0;32mNone\u001b[0m \u001b[0;32melse\u001b[0m \u001b[0;34m{\u001b[0m\u001b[0;34m}\u001b[0m\u001b[0;34m\u001b[0m\u001b[0m\n",
      "\u001b[0;32m/home/greg/anaconda3/lib/python3.5/site-packages/pandas/core/internals.py\u001b[0m in \u001b[0;36mitems_overlap_with_suffix\u001b[0;34m(left, lsuffix, right, rsuffix)\u001b[0m\n\u001b[1;32m   4443\u001b[0m         \u001b[0;32mif\u001b[0m \u001b[0;32mnot\u001b[0m \u001b[0mlsuffix\u001b[0m \u001b[0;32mand\u001b[0m \u001b[0;32mnot\u001b[0m \u001b[0mrsuffix\u001b[0m\u001b[0;34m:\u001b[0m\u001b[0;34m\u001b[0m\u001b[0m\n\u001b[1;32m   4444\u001b[0m             raise ValueError('columns overlap but no suffix specified: %s' %\n\u001b[0;32m-> 4445\u001b[0;31m                              to_rename)\n\u001b[0m\u001b[1;32m   4446\u001b[0m \u001b[0;34m\u001b[0m\u001b[0m\n\u001b[1;32m   4447\u001b[0m         \u001b[0;32mdef\u001b[0m \u001b[0mlrenamer\u001b[0m\u001b[0;34m(\u001b[0m\u001b[0mx\u001b[0m\u001b[0;34m)\u001b[0m\u001b[0;34m:\u001b[0m\u001b[0;34m\u001b[0m\u001b[0m\n",
      "\u001b[0;31mValueError\u001b[0m: columns overlap but no suffix specified: Index(['Title about', 'Title access', 'Title add', 'Title after', 'Title ajax',\n       'Title all', 'Title an', 'Title and', 'Title android', 'Title another',\n       ...\n       'Title while', 'Title why', 'Title windows', 'Title with',\n       'Title without', 'Title work', 'Title working', 'Title write',\n       'Title xml', 'Title you'],\n      dtype='object', length=188)"
     ]
    }
   ],
   "source": [
    "train, leaderboard = extract_information(train, leaderboard, 'Title'       , 200)\n",
    "train, leaderboard = extract_information(train, leaderboard, 'BodyMarkdown', 500)\n"
   ]
  },
  {
   "cell_type": "code",
   "execution_count": null,
   "metadata": {
    "collapsed": false
   },
   "outputs": [],
   "source": [
    "train.head()"
   ]
  },
  {
   "cell_type": "code",
   "execution_count": null,
   "metadata": {
    "collapsed": false
   },
   "outputs": [],
   "source": [
    "leaderboard.head()"
   ]
  },
  {
   "cell_type": "code",
   "execution_count": null,
   "metadata": {
    "collapsed": true
   },
   "outputs": [],
   "source": []
  }
 ],
 "metadata": {
  "anaconda-cloud": {},
  "kernelspec": {
   "display_name": "Python [conda root]",
   "language": "python",
   "name": "conda-root-py"
  },
  "language_info": {
   "codemirror_mode": {
    "name": "ipython",
    "version": 3
   },
   "file_extension": ".py",
   "mimetype": "text/x-python",
   "name": "python",
   "nbconvert_exporter": "python",
   "pygments_lexer": "ipython3",
   "version": "3.5.2"
  }
 },
 "nbformat": 4,
 "nbformat_minor": 1
}
